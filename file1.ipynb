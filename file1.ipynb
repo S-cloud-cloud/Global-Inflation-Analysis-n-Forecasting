{
 "cells": [
  {
   "cell_type": "markdown",
   "id": "0ceffcad",
   "metadata": {},
   "source": [
    "#Global Inflation Analysis (1970 - 2023)"
   ]
  },
  {
   "cell_type": "code",
   "execution_count": 58,
   "id": "fc6c4a91",
   "metadata": {},
   "outputs": [],
   "source": [
    "import pandas as pd\n",
    "import numpy as np\n",
    "import matplotlib.pyplot as plt\n",
    "import seaborn as sns\n",
    "import plotly.express as px\n",
    "import statsmodels.api as sm\n",
    "import os"
   ]
  },
  {
   "cell_type": "code",
   "execution_count": 59,
   "id": "eb1bcc90",
   "metadata": {},
   "outputs": [
    {
     "name": "stdout",
     "output_type": "stream",
     "text": [
      "running data cleaning process : \n",
      "\n",
      "\n",
      " workbook.sheet_names : \n",
      " ['Intro', 'top', 'hcpi_m', 'hcpi_q', 'hcpi_a', 'ecpi_m', 'ecpi_q', 'ecpi_a', 'fcpi_m', 'fcpi_q', 'fcpi_a', 'ccpi_m', 'ccpi_q', 'ccpi_a', 'ppi_m', 'ppi_q', 'ppi_a', 'def_q', 'def_a', 'Aggregate']\n"
     ]
    }
   ],
   "source": [
    "print('running data cleaning process : \\n')\n",
    "file_path = r'C:\\Users\\KIIT\\Global_Inflation_Analysis\\Data_xls\\Inflation-data.xlsx'\n",
    "#raw_data_workbook file path to be updated\n",
    "\n",
    "#contains multiple sheets, some of which has metadata\n",
    "workbook = pd.ExcelFile(file_path,engine=\"openpyxl\")\n",
    "#check if the first row is header:\n",
    "#df = pd.read_excel(file_path, engine='openpyxl', header=1)  # Adjust index if needed\n",
    "print('\\n workbook.sheet_names : \\n', workbook.sheet_names)  \n",
    "\n",
    "# List all sheet names\n",
    "\n",
    "#['Intro', 'top', 'hcpi_m', 'hcpi_q', 'hcpi_a', 'ecpi_m', 'ecpi_q', 'ecpi_a', 'fcpi_m',\n",
    "# 'fcpi_q', 'fcpi_a', 'ccpi_m', 'ccpi_q', 'ccpi_a', 'ppi_m', 'ppi_q', 'ppi_a', 'def_q', 'def_a', 'Aggregate']\n",
    "\n",
    "# Read the desired sheet: [0-based indexing]\n",
    "#1.For overall inflation trends across countries → Use hcpi_a (Annual Harmonized CPI).\n",
    "#2.For inflation vs. oil price analysis → Use ecpi_a (Annual Energy CPI).\n",
    "#3.For a high-level summary before deeper analysis → Use Aggregate.\n"
   ]
  },
  {
   "cell_type": "code",
   "execution_count": 60,
   "id": "0b5e0eb8",
   "metadata": {},
   "outputs": [
    {
     "name": "stdout",
     "output_type": "stream",
     "text": [
      "\n",
      " sheet choosen : hcpi_a : first 6 lines of hcpi_a: \n",
      "   Country Code  IMF Country Code              Country Indicator Type  \\\n",
      "0          AFG             512.0          Afghanistan      Inflation   \n",
      "1          ALB             914.0              Albania      Inflation   \n",
      "2          DZA             612.0              Algeria      Inflation   \n",
      "3          AGO             614.0               Angola      Inflation   \n",
      "4          ATG             311.0  Antigua and Barbuda      Inflation   \n",
      "5          ARG             213.0            Argentina      Inflation   \n",
      "\n",
      "                         Series Name     1970       1971      1972       1973  \\\n",
      "0  Headline Consumer Price Inflation  25.5100  25.510000 -12.52000 -10.680000   \n",
      "1  Headline Consumer Price Inflation      NaN        NaN       NaN        NaN   \n",
      "2  Headline Consumer Price Inflation   6.6000   2.626640   3.65631   6.172840   \n",
      "3  Headline Consumer Price Inflation   7.9700   5.780000  15.80000  15.670000   \n",
      "4  Headline Consumer Price Inflation   8.8700   8.630000  12.67000  21.719999   \n",
      "5  Headline Consumer Price Inflation  13.5869  34.732498  58.44590  61.249100   \n",
      "\n",
      "        1974  ...       2015       2016    2017   2018    2019       2020  \\\n",
      "0  10.230000  ...  -0.660000   4.380000   4.976   0.63   2.302   5.443000   \n",
      "1        NaN  ...   1.910179   1.291234   1.987   2.03   1.411   1.620887   \n",
      "2   4.699610  ...   4.391666   5.800304   5.591   3.51   1.952   2.415131   \n",
      "3  27.420000  ...   9.159000  32.377731  29.844  19.63  17.079  21.024000   \n",
      "4  12.970000  ...   0.969000  -0.489000   2.425   1.21   1.475   1.058000   \n",
      "5  23.474899  ...  26.538401  39.400002  25.675  34.28  53.548  42.015095   \n",
      "\n",
      "        2021       2022        2023                      Note  \n",
      "0   5.062000  10.600000         NaN  Annual average inflation  \n",
      "1   2.041472   6.725203    5.565224  Annual average inflation  \n",
      "2   7.226063   9.265516    9.322174  Annual average inflation  \n",
      "3  23.846111  23.826819   13.644102  Annual average inflation  \n",
      "4   1.627000   7.531078    5.067139  Annual average inflation  \n",
      "5  48.409380  72.430760  128.414708  Annual average inflation  \n",
      "\n",
      "[6 rows x 60 columns] \n",
      "\n"
     ]
    }
   ],
   "source": [
    "#1.\n",
    "proj_data=pd.read_excel(file_path,sheet_name='hcpi_a',engine=\"openpyxl\")\n",
    "#data_exploration\n",
    "print('\\n sheet choosen : hcpi_a : first 6 lines of hcpi_a: \\n', proj_data.head(6),'\\n') \n",
    "\n"
   ]
  },
  {
   "cell_type": "code",
   "execution_count": 61,
   "id": "8936ca6f",
   "metadata": {},
   "outputs": [
    {
     "name": "stdout",
     "output_type": "stream",
     "text": [
      "<class 'pandas.core.frame.DataFrame'>\n",
      "RangeIndex: 205 entries, 0 to 204\n",
      "Data columns (total 60 columns):\n",
      " #   Column            Non-Null Count  Dtype  \n",
      "---  ------            --------------  -----  \n",
      " 0   Country Code      204 non-null    object \n",
      " 1   IMF Country Code  203 non-null    float64\n",
      " 2   Country           203 non-null    object \n",
      " 3   Indicator Type    203 non-null    object \n",
      " 4   Series Name       203 non-null    object \n",
      " 5   1970              155 non-null    float64\n",
      " 6   1971              155 non-null    float64\n",
      " 7   1972              155 non-null    float64\n",
      " 8   1973              156 non-null    float64\n",
      " 9   1974              156 non-null    float64\n",
      " 10  1975              154 non-null    float64\n",
      " 11  1976              154 non-null    float64\n",
      " 12  1977              154 non-null    float64\n",
      " 13  1978              155 non-null    float64\n",
      " 14  1979              155 non-null    float64\n",
      " 15  1980              158 non-null    float64\n",
      " 16  1981              162 non-null    float64\n",
      " 17  1982              163 non-null    float64\n",
      " 18  1983              163 non-null    float64\n",
      " 19  1984              163 non-null    float64\n",
      " 20  1985              163 non-null    float64\n",
      " 21  1986              164 non-null    float64\n",
      " 22  1987              165 non-null    float64\n",
      " 23  1988              165 non-null    float64\n",
      " 24  1989              165 non-null    float64\n",
      " 25  1990              166 non-null    float64\n",
      " 26  1991              169 non-null    float64\n",
      " 27  1992              175 non-null    float64\n",
      " 28  1993              179 non-null    float64\n",
      " 29  1994              180 non-null    float64\n",
      " 30  1995              181 non-null    float64\n",
      " 31  1996              184 non-null    float64\n",
      " 32  1997              185 non-null    float64\n",
      " 33  1998              186 non-null    float64\n",
      " 34  1999              187 non-null    float64\n",
      " 35  2000              188 non-null    float64\n",
      " 36  2001              191 non-null    float64\n",
      " 37  2002              191 non-null    float64\n",
      " 38  2003              194 non-null    float64\n",
      " 39  2004              195 non-null    float64\n",
      " 40  2005              198 non-null    float64\n",
      " 41  2006              198 non-null    float64\n",
      " 42  2007              198 non-null    float64\n",
      " 43  2008              198 non-null    float64\n",
      " 44  2009              198 non-null    float64\n",
      " 45  2010              198 non-null    float64\n",
      " 46  2011              198 non-null    float64\n",
      " 47  2012              200 non-null    float64\n",
      " 48  2013              201 non-null    float64\n",
      " 49  2014              201 non-null    float64\n",
      " 50  2015              201 non-null    float64\n",
      " 51  2016              201 non-null    float64\n",
      " 52  2017              200 non-null    float64\n",
      " 53  2018              200 non-null    float64\n",
      " 54  2019              200 non-null    float64\n",
      " 55  2020              199 non-null    float64\n",
      " 56  2021              198 non-null    float64\n",
      " 57  2022              198 non-null    float64\n",
      " 58  2023              195 non-null    float64\n",
      " 59  Note              203 non-null    object \n",
      "dtypes: float64(55), object(5)\n",
      "memory usage: 96.2+ KB\n",
      "\n",
      " Data Type info : \n",
      " None \n",
      "\n"
     ]
    }
   ],
   "source": [
    "print('\\n Data Type info : \\n', proj_data.info(),'\\n')\n",
    "#Number of rows/columns : 59 (0-based/60)\n",
    "#Data types (numeric, text, etc.) : dtypes: float64(55), object(5) \n",
    "#Missing values \n",
    "\n",
    "#print('\\n All columns',proj_data.columns,'\\n') #data of years from 1970 to 2023\n",
    "\n",
    "\n"
   ]
  },
  {
   "cell_type": "code",
   "execution_count": 62,
   "id": "435ecfe0",
   "metadata": {},
   "outputs": [
    {
     "name": "stdout",
     "output_type": "stream",
     "text": [
      "checking column series name : \n",
      " 0    Headline Consumer Price Inflation\n",
      "1    Headline Consumer Price Inflation\n",
      "2    Headline Consumer Price Inflation\n",
      "3    Headline Consumer Price Inflation\n",
      "4    Headline Consumer Price Inflation\n",
      "5    Headline Consumer Price Inflation\n",
      "Name: Series Name, dtype: object \n",
      "\n"
     ]
    }
   ],
   "source": [
    "print('checking column series name : \\n',proj_data['Series Name'].head(6),'\\n') #Headline Consumer Price Inflation : includes both energy and food prices\n",
    "\n"
   ]
  },
  {
   "cell_type": "code",
   "execution_count": 63,
   "id": "6de29883",
   "metadata": {},
   "outputs": [
    {
     "name": "stdout",
     "output_type": "stream",
     "text": [
      "checking missing values per col count : \u000b Country Code         1\n",
      "IMF Country Code     2\n",
      "Country              2\n",
      "Indicator Type       2\n",
      "Series Name          2\n",
      "1970                50\n",
      "1971                50\n",
      "1972                50\n",
      "1973                49\n",
      "1974                49\n",
      "1975                51\n",
      "1976                51\n",
      "1977                51\n",
      "1978                50\n",
      "1979                50\n",
      "1980                47\n",
      "1981                43\n",
      "1982                42\n",
      "1983                42\n",
      "1984                42\n",
      "1985                42\n",
      "1986                41\n",
      "1987                40\n",
      "1988                40\n",
      "1989                40\n",
      "1990                39\n",
      "1991                36\n",
      "1992                30\n",
      "1993                26\n",
      "1994                25\n",
      "1995                24\n",
      "1996                21\n",
      "1997                20\n",
      "1998                19\n",
      "1999                18\n",
      "2000                17\n",
      "2001                14\n",
      "2002                14\n",
      "2003                11\n",
      "2004                10\n",
      "2005                 7\n",
      "2006                 7\n",
      "2007                 7\n",
      "2008                 7\n",
      "2009                 7\n",
      "2010                 7\n",
      "2011                 7\n",
      "2012                 5\n",
      "2013                 4\n",
      "2014                 4\n",
      "2015                 4\n",
      "2016                 4\n",
      "2017                 5\n",
      "2018                 5\n",
      "2019                 5\n",
      "2020                 6\n",
      "2021                 7\n",
      "2022                 7\n",
      "2023                10\n",
      "Note                 2\n",
      "dtype: int64 \n",
      "\n"
     ]
    }
   ],
   "source": [
    "#Data Cleaning & Preprocessing:\n",
    "print('checking missing values per col count : \\v', proj_data.isnull().sum(),'\\n')\n",
    "#multiple missing values\n"
   ]
  },
  {
   "cell_type": "code",
   "execution_count": 64,
   "id": "57194dc1",
   "metadata": {},
   "outputs": [
    {
     "name": "stdout",
     "output_type": "stream",
     "text": [
      "show all NaN values \n",
      "                                           Country Code  IMF Country Code  \\\n",
      "0                                                  AFG             512.0   \n",
      "1                                                  ALB             914.0   \n",
      "6                                                  ARM             911.0   \n",
      "7                                                  ABW             314.0   \n",
      "10                                                 AZE             912.0   \n",
      "19                                                 BTN             514.0   \n",
      "21                                                 BIH             963.0   \n",
      "24                                                 VGB             284.0   \n",
      "30                                                 KHM             522.0   \n",
      "33                                                 CYM             136.0   \n",
      "44                                                 HRV             960.0   \n",
      "45                                                 CUW             354.0   \n",
      "56                                                 ERI             643.0   \n",
      "57                                                 EST             939.0   \n",
      "64                                                 GEO             915.0   \n",
      "75                                                 HKG             532.0   \n",
      "88                                                 KAZ             916.0   \n",
      "90                                                 KIR             826.0   \n",
      "92                                                 XXK             383.0   \n",
      "94                                                 KGZ             917.0   \n",
      "96                                                 LVA             941.0   \n",
      "101                                                LIE             423.0   \n",
      "102                                                LTU             946.0   \n",
      "104                                                MAC             546.0   \n",
      "105                                                MKD             962.0   \n",
      "112                                                MHL             867.0   \n",
      "113                                                MTQ             474.0   \n",
      "117                                                FSM             868.0   \n",
      "118                                                MDA             921.0   \n",
      "119                                                MNG             948.0   \n",
      "120                                                MNE             943.0   \n",
      "121                                                MSR             664.0   \n",
      "126                                                NRU             836.0   \n",
      "129                                                NCL             687.0   \n",
      "134                                                NIU             570.0   \n",
      "138                                                PLW             565.0   \n",
      "146                                                PRI             359.0   \n",
      "151                                                SHN             654.0   \n",
      "153                                                SMR             135.0   \n",
      "157                                                SRB             942.0   \n",
      "161                                                SVK             936.0   \n",
      "162                                                SVN             961.0   \n",
      "163                                                SLB             813.0   \n",
      "165                                                SSD             733.0   \n",
      "176                                                SYR             463.0   \n",
      "177                                                TJK             923.0   \n",
      "180                                                TLS             537.0   \n",
      "186                                                TKM             925.0   \n",
      "187                                                TCA             796.0   \n",
      "188                                                TUV             869.0   \n",
      "195                                                UZB             927.0   \n",
      "199                                                PSE             488.0   \n",
      "203                                                NaN               NaN   \n",
      "204  Note: For those countries where annual data ar...               NaN   \n",
      "\n",
      "                      Country Indicator Type  \\\n",
      "0                 Afghanistan      Inflation   \n",
      "1                     Albania      Inflation   \n",
      "6                     Armenia      Inflation   \n",
      "7                       Aruba      Inflation   \n",
      "10                 Azerbaijan      Inflation   \n",
      "19                     Bhutan      Inflation   \n",
      "21     Bosnia and Herzegovina      Inflation   \n",
      "24     British Virgin Islands      Inflation   \n",
      "30                   Cambodia      Inflation   \n",
      "33             Cayman Islands      Inflation   \n",
      "44                    Croatia      Inflation   \n",
      "45                    Curacao      Inflation   \n",
      "56                    Eritrea      Inflation   \n",
      "57                    Estonia      Inflation   \n",
      "64                    Georgia      Inflation   \n",
      "75       Hong Kong SAR, China      Inflation   \n",
      "88                 Kazakhstan      Inflation   \n",
      "90                   Kiribati      Inflation   \n",
      "92                     Kosovo      Inflation   \n",
      "94            Kyrgyz Republic      Inflation   \n",
      "96                     Latvia      Inflation   \n",
      "101             Liechtenstein      Inflation   \n",
      "102                 Lithuania      Inflation   \n",
      "104          Macao SAR, China      Inflation   \n",
      "105            Macedonia, FYR      Inflation   \n",
      "112          Marshall Islands      Inflation   \n",
      "113                Martinique      Inflation   \n",
      "117     Micronesia, Fed. Sts.      Inflation   \n",
      "118                   Moldova      Inflation   \n",
      "119                  Mongolia      Inflation   \n",
      "120                Montenegro      Inflation   \n",
      "121              Montserratit      Inflation   \n",
      "126                     Nauru      Inflation   \n",
      "129             New Caledonia      Inflation   \n",
      "134                      Niue      Inflation   \n",
      "138                     Palau      Inflation   \n",
      "146               Puerto Rico      Inflation   \n",
      "151              Saint Helena      Inflation   \n",
      "153                San Marino      Inflation   \n",
      "157                    Serbia      Inflation   \n",
      "161           Slovak Republic      Inflation   \n",
      "162                  Slovenia      Inflation   \n",
      "163           Solomon Islands      Inflation   \n",
      "165               South Sudan      Inflation   \n",
      "176      Syrian Arab Republic      Inflation   \n",
      "177                Tajikistan      Inflation   \n",
      "180               Timor-Leste      Inflation   \n",
      "186              Turkmenistan      Inflation   \n",
      "187  Turks and Caicos Islands      Inflation   \n",
      "188                    Tuvalu      Inflation   \n",
      "195                Uzbekistan      Inflation   \n",
      "199        West Bank and Gaza      Inflation   \n",
      "203                       NaN            NaN   \n",
      "204                       NaN            NaN   \n",
      "\n",
      "                           Series Name      1970       1971      1972  \\\n",
      "0    Headline Consumer Price Inflation  25.51000  25.510000 -12.52000   \n",
      "1    Headline Consumer Price Inflation       NaN        NaN       NaN   \n",
      "6    Headline Consumer Price Inflation       NaN        NaN       NaN   \n",
      "7    Headline Consumer Price Inflation       NaN        NaN       NaN   \n",
      "10   Headline Consumer Price Inflation       NaN        NaN       NaN   \n",
      "19   Headline Consumer Price Inflation   5.65000   4.470000   6.02000   \n",
      "21   Headline Consumer Price Inflation       NaN        NaN       NaN   \n",
      "24   Headline Consumer Price Inflation       NaN        NaN       NaN   \n",
      "30   Headline Consumer Price Inflation  12.10000  71.300003  25.40000   \n",
      "33   Headline Consumer Price Inflation       NaN        NaN       NaN   \n",
      "44   Headline Consumer Price Inflation       NaN        NaN       NaN   \n",
      "45   Headline Consumer Price Inflation       NaN        NaN       NaN   \n",
      "56   Headline Consumer Price Inflation       NaN        NaN       NaN   \n",
      "57   Headline Consumer Price Inflation       NaN        NaN       NaN   \n",
      "64   Headline Consumer Price Inflation       NaN        NaN       NaN   \n",
      "75   Headline Consumer Price Inflation       NaN        NaN       NaN   \n",
      "88   Headline Consumer Price Inflation       NaN        NaN       NaN   \n",
      "90   Headline Consumer Price Inflation       NaN        NaN       NaN   \n",
      "92   Headline Consumer Price Inflation       NaN        NaN       NaN   \n",
      "94   Headline Consumer Price Inflation       NaN        NaN       NaN   \n",
      "96   Headline Consumer Price Inflation       NaN        NaN       NaN   \n",
      "101  Headline Consumer Price Inflation       NaN        NaN       NaN   \n",
      "102  Headline Consumer Price Inflation       NaN        NaN       NaN   \n",
      "104  Headline Consumer Price Inflation       NaN        NaN       NaN   \n",
      "105  Headline Consumer Price Inflation       NaN        NaN       NaN   \n",
      "112  Headline Consumer Price Inflation       NaN        NaN       NaN   \n",
      "113  Headline Consumer Price Inflation       NaN        NaN       NaN   \n",
      "117  Headline Consumer Price Inflation       NaN        NaN       NaN   \n",
      "118  Headline Consumer Price Inflation       NaN        NaN       NaN   \n",
      "119  Headline Consumer Price Inflation       NaN        NaN       NaN   \n",
      "120  Headline Consumer Price Inflation       NaN        NaN       NaN   \n",
      "121  Headline Consumer Price Inflation       NaN        NaN       NaN   \n",
      "126  Headline Consumer Price Inflation       NaN        NaN       NaN   \n",
      "129  Headline Consumer Price Inflation       NaN        NaN       NaN   \n",
      "134  Headline Consumer Price Inflation       NaN        NaN       NaN   \n",
      "138  Headline Consumer Price Inflation       NaN        NaN       NaN   \n",
      "146  Headline Consumer Price Inflation       NaN        NaN       NaN   \n",
      "151  Headline Consumer Price Inflation       NaN        NaN       NaN   \n",
      "153  Headline Consumer Price Inflation       NaN        NaN       NaN   \n",
      "157  Headline Consumer Price Inflation       NaN        NaN       NaN   \n",
      "161  Headline Consumer Price Inflation       NaN        NaN       NaN   \n",
      "162  Headline Consumer Price Inflation       NaN        NaN       NaN   \n",
      "163  Headline Consumer Price Inflation       NaN        NaN       NaN   \n",
      "165  Headline Consumer Price Inflation       NaN        NaN       NaN   \n",
      "176  Headline Consumer Price Inflation   4.63768   5.609420   2.09836   \n",
      "177  Headline Consumer Price Inflation       NaN        NaN       NaN   \n",
      "180  Headline Consumer Price Inflation       NaN        NaN       NaN   \n",
      "186  Headline Consumer Price Inflation       NaN        NaN       NaN   \n",
      "187  Headline Consumer Price Inflation       NaN        NaN       NaN   \n",
      "188  Headline Consumer Price Inflation       NaN        NaN       NaN   \n",
      "195  Headline Consumer Price Inflation       NaN        NaN       NaN   \n",
      "199  Headline Consumer Price Inflation       NaN        NaN       NaN   \n",
      "203                                NaN       NaN        NaN       NaN   \n",
      "204                                NaN       NaN        NaN       NaN   \n",
      "\n",
      "           1973        1974  ...       2015        2016        2017  \\\n",
      "0    -10.680000   10.230000  ...  -0.660000    4.380000    4.976000   \n",
      "1           NaN         NaN  ...   1.910179    1.291234    1.987000   \n",
      "6           NaN         NaN  ...   3.731000   -1.406000    1.031000   \n",
      "7           NaN         NaN  ...   0.480000   -0.890000   -0.474000   \n",
      "10          NaN         NaN  ...   4.032938   12.440555   12.844000   \n",
      "19    12.960000   17.110001  ...   4.550000    4.310000    5.529000   \n",
      "21          NaN         NaN  ...  -1.014633   -1.058649    0.810000   \n",
      "24          NaN         NaN  ...   0.800000    1.100000    1.200000   \n",
      "30   157.899994  228.199997  ...   1.220819    3.021750    2.906000   \n",
      "33          NaN         NaN  ...  -2.383222   -0.585938    2.000000   \n",
      "44          NaN         NaN  ...  -0.461235   -1.120096    1.129000   \n",
      "45     9.615385   22.456140  ...   0.316456    0.078864    1.580000   \n",
      "56          NaN         NaN  ...   9.000000    9.000000  -13.306000   \n",
      "57          NaN         NaN  ...  -0.492323    0.148682    3.651000   \n",
      "64          NaN         NaN  ...   4.028417    2.121477    6.035000   \n",
      "75          NaN         NaN  ...   2.995387    2.419423    1.481000   \n",
      "88          NaN         NaN  ...   6.720480   14.590359    7.429000   \n",
      "90          NaN         NaN  ...   0.572000    1.917000    0.356000   \n",
      "92          NaN         NaN  ...  -0.533713    0.268288    1.489476   \n",
      "94          NaN         NaN  ...   6.482864    0.388388    3.175000   \n",
      "96          NaN         NaN  ...   0.174238    0.140633    2.894000   \n",
      "101         NaN         NaN  ...  -1.111111   -0.408580    0.512821   \n",
      "102         NaN         NaN  ...  -0.884097    0.905525    3.718000   \n",
      "104         NaN         NaN  ...   4.558494    2.372599    1.227000   \n",
      "105         NaN         NaN  ...  -0.288636   -0.233102    1.352000   \n",
      "112         NaN         NaN  ...  -2.236000   -1.508000    0.033000   \n",
      "113         NaN         NaN  ...        NaN         NaN         NaN   \n",
      "117         NaN         NaN  ...  -0.158000   -1.036097    0.098000   \n",
      "118         NaN         NaN  ...   9.628000    6.382000    6.576000   \n",
      "119         NaN         NaN  ...   6.562472    0.724998    4.623000   \n",
      "120         NaN         NaN  ...   1.557078   -0.266640    2.373000   \n",
      "121         NaN         NaN  ...  -1.150000   -0.250000    1.190000   \n",
      "126         NaN         NaN  ...   9.784000    8.150000    5.082000   \n",
      "129         NaN         NaN  ...   0.571577    0.578743    1.378953   \n",
      "134         NaN         NaN  ...        NaN         NaN         NaN   \n",
      "138         NaN         NaN  ...   0.947000   -1.033000    0.903000   \n",
      "146         NaN         NaN  ...  -0.751000   -0.294000    1.752000   \n",
      "151         NaN         NaN  ...   1.900000    2.600000    5.100000   \n",
      "153         NaN         NaN  ...   0.150000    0.570000    1.000000   \n",
      "157         NaN         NaN  ...   1.392164    1.122162    3.131000   \n",
      "161         NaN         NaN  ...  -0.325218   -0.520012    1.393000   \n",
      "162         NaN         NaN  ...  -0.525555   -0.055000    1.432000   \n",
      "163         NaN         NaN  ...  -0.559000    0.503000    0.477000   \n",
      "165         NaN         NaN  ...  52.813000  379.848999  187.867000   \n",
      "176   20.359699   15.528300  ...  26.000000   25.000000         NaN   \n",
      "177         NaN         NaN  ...   5.472277    6.035712    7.310000   \n",
      "180         NaN         NaN  ...   0.650000   -1.470000    0.520000   \n",
      "186         NaN         NaN  ...   7.405000    3.646000    8.041000   \n",
      "187         NaN         NaN  ...   2.200000    2.000000    2.100000   \n",
      "188         NaN         NaN  ...   3.144000    3.511000    4.120000   \n",
      "195         NaN         NaN  ...   8.464000    7.982000   13.876000   \n",
      "199         NaN         NaN  ...   1.433679   -0.219107    0.212396   \n",
      "203         NaN         NaN  ...        NaN         NaN         NaN   \n",
      "204         NaN         NaN  ...        NaN         NaN         NaN   \n",
      "\n",
      "          2018       2019       2020       2021       2022       2023  \\\n",
      "0     0.630000   2.302000   5.443000   5.062000  10.600000        NaN   \n",
      "1     2.030000   1.411000   1.620887   2.041472   6.725203   5.565224   \n",
      "6     2.520000   1.443000   1.211436   7.184836   8.640911   1.980419   \n",
      "7     3.580000   4.257000   1.222000   0.744000   5.520000   3.366000   \n",
      "10    2.330000   2.712000   2.759809   6.650299  13.852259   8.785430   \n",
      "19    2.720000   2.600000   5.629399   7.328401   5.639167   4.005472   \n",
      "21    1.270000   0.617000  -1.051296   1.981639  14.020844   6.098000   \n",
      "24    2.100000   1.400000   0.400000   2.800000        NaN        NaN   \n",
      "30    2.390000   2.014000   2.940000   2.921423   5.343703   2.127468   \n",
      "33    3.300000   5.700000   1.000000   0.760000   8.201290        NaN   \n",
      "44    1.500000   0.772000   0.275000   2.554507  10.780581   7.941282   \n",
      "45    2.580000   2.620000        NaN        NaN        NaN        NaN   \n",
      "56  -14.400000 -16.365000   4.914000   6.642000   7.352000   9.159225   \n",
      "57    3.440000   2.268000  -0.444531   4.653167  19.398260   9.452177   \n",
      "64    2.620000   4.853000   5.202465   9.566914  11.898165   2.487761   \n",
      "75    2.410000   2.865000   0.325437   1.568758   1.881367   1.943635   \n",
      "88    6.020000   5.244000   6.749002   8.002000  14.355580  14.716801   \n",
      "90    0.587649  -1.881000   2.482000   3.000000   5.340000   9.277000   \n",
      "92    1.054574   2.678494   0.194800   3.355875  11.674000   4.944227   \n",
      "94    1.540000   1.136000   6.325423  11.908779  13.922909  10.753277   \n",
      "96    2.530000   2.747000   0.219065   3.275814  17.310290   8.938046   \n",
      "101   0.918367   0.404449  -0.704935   0.507099   8.395483   6.350283   \n",
      "102   2.700000   2.242000   1.199894   4.683544  19.705050   9.117320   \n",
      "104   3.000000   2.752000   0.811000   0.026802   1.045028   0.936000   \n",
      "105   1.460000   0.766000   1.200073   3.230749  14.204717   9.361872   \n",
      "112   0.755000   1.200000   0.614000   2.605000   6.163000   6.753000   \n",
      "113        NaN        NaN        NaN        NaN  29.072000        NaN   \n",
      "117   1.500000   1.863000   0.484000   2.085000   5.408744   6.210000   \n",
      "118   3.050000   4.849000   3.765971   5.106411  28.737298  16.831680   \n",
      "119   6.830000   7.260000   3.693169   7.098564  15.147956  10.347583   \n",
      "120   2.600000   0.366000  -0.255656   2.410802  13.040304   8.584769   \n",
      "121   1.310000  -1.070000  -1.890000   1.670000   7.656875        NaN   \n",
      "126   0.463000   4.300000   0.891000   1.200000   2.573000   6.203000   \n",
      "129   1.326514   0.253175  -0.526382   0.622818   3.690239   1.746999   \n",
      "134        NaN        NaN        NaN        NaN        NaN   8.600478   \n",
      "138   1.570000   0.609000   0.220000   0.450000  12.352664  12.652119   \n",
      "146   1.270000   0.105000  -1.301000   2.410000   4.318000   0.000000   \n",
      "151   3.800000   3.300000   1.100000   1.300000   9.393839   2.604802   \n",
      "153   1.725205   0.951000   0.215000   0.759000   7.120000   6.079000   \n",
      "157   1.950000   1.850000   1.575533   4.085103  11.981512  12.371904   \n",
      "161   2.510000   2.767000   1.936941   3.149606  12.774150  10.531948   \n",
      "162   1.740000   1.628000  -0.054857   1.917065   8.833699   7.446877   \n",
      "163   2.660000   1.828000   2.963550  -0.108000   5.518129   4.490000   \n",
      "165  83.490000  51.187000  29.675844  30.229000  -6.687321   2.382804   \n",
      "176        NaN        NaN        NaN        NaN        NaN        NaN   \n",
      "177   3.830000   7.793000   8.589000   8.922047   6.591235   3.500230   \n",
      "180   2.290000   0.960000   0.488000   3.775000   7.005000   8.420000   \n",
      "186  13.300000   5.092000   7.583000  14.950000  11.476000  -1.738000   \n",
      "187   2.100000   2.200000   2.300000        NaN        NaN        NaN   \n",
      "188   2.140000   2.177000   1.570000   2.944000  11.477000   6.205000   \n",
      "195  17.680000  14.526000  12.855000  10.690867  11.446644   9.951000   \n",
      "199  -0.195000   1.580000  -0.735400   1.240000   3.706991   5.871102   \n",
      "203        NaN        NaN        NaN        NaN        NaN        NaN   \n",
      "204        NaN        NaN        NaN        NaN        NaN        NaN   \n",
      "\n",
      "                                                  Note  \n",
      "0                             Annual average inflation  \n",
      "1                             Annual average inflation  \n",
      "6                             Annual average inflation  \n",
      "7                             Annual average inflation  \n",
      "10                            Annual average inflation  \n",
      "19                            Annual average inflation  \n",
      "21                            Annual average inflation  \n",
      "24   Annual average inflation; Additional country c...  \n",
      "30                            Annual average inflation  \n",
      "33                            Annual average inflation  \n",
      "44                            Annual average inflation  \n",
      "45                            Annual average inflation  \n",
      "56                            Annual average inflation  \n",
      "57                            Annual average inflation  \n",
      "64                            Annual average inflation  \n",
      "75                            Annual average inflation  \n",
      "88                            Annual average inflation  \n",
      "90                            Annual average inflation  \n",
      "92   Annual average inflation; Additional country c...  \n",
      "94                            Annual average inflation  \n",
      "96                            Annual average inflation  \n",
      "101  Annual average inflation; Additional country c...  \n",
      "102                           Annual average inflation  \n",
      "104                           Annual average inflation  \n",
      "105                           Annual average inflation  \n",
      "112                           Annual average inflation  \n",
      "113  Annual average inflation; Additional country c...  \n",
      "117                           Annual average inflation  \n",
      "118                           Annual average inflation  \n",
      "119                           Annual average inflation  \n",
      "120                           Annual average inflation  \n",
      "121  Annual average inflation; Additional country c...  \n",
      "126                           Annual average inflation  \n",
      "129  Annual average inflation; Additional country c...  \n",
      "134  Annual average inflation; Additional country c...  \n",
      "138                           Annual average inflation  \n",
      "146                           Annual average inflation  \n",
      "151  Annual average inflation; Additional country c...  \n",
      "153                           Annual average inflation  \n",
      "157                           Annual average inflation  \n",
      "161                           Annual average inflation  \n",
      "162                           Annual average inflation  \n",
      "163                           Annual average inflation  \n",
      "165                           Annual average inflation  \n",
      "176                           Annual average inflation  \n",
      "177                           Annual average inflation  \n",
      "180  Annual average inflation; Additional country c...  \n",
      "186                           Annual average inflation  \n",
      "187  Annual average inflation; Additional country c...  \n",
      "188                           Annual average inflation  \n",
      "195                           Annual average inflation  \n",
      "199                           Annual average inflation  \n",
      "203                                                NaN  \n",
      "204                                                NaN  \n",
      "\n",
      "[54 rows x 60 columns] \n",
      "\n"
     ]
    }
   ],
   "source": [
    "print('show all NaN values \\n', proj_data[proj_data.isnull().any(axis=1)], '\\n')"
   ]
  },
  {
   "cell_type": "code",
   "execution_count": 65,
   "id": "b80ded05",
   "metadata": {},
   "outputs": [
    {
     "name": "stdout",
     "output_type": "stream",
     "text": [
      "empty string values in each column : \n",
      ",Country Code        0\n",
      "IMF Country Code    0\n",
      "Country             0\n",
      "Indicator Type      0\n",
      "Series Name         0\n",
      "1970                0\n",
      "1971                0\n",
      "1972                0\n",
      "1973                0\n",
      "1974                0\n",
      "1975                0\n",
      "1976                0\n",
      "1977                0\n",
      "1978                0\n",
      "1979                0\n",
      "1980                0\n",
      "1981                0\n",
      "1982                0\n",
      "1983                0\n",
      "1984                0\n",
      "1985                0\n",
      "1986                0\n",
      "1987                0\n",
      "1988                0\n",
      "1989                0\n",
      "1990                0\n",
      "1991                0\n",
      "1992                0\n",
      "1993                0\n",
      "1994                0\n",
      "1995                0\n",
      "1996                0\n",
      "1997                0\n",
      "1998                0\n",
      "1999                0\n",
      "2000                0\n",
      "2001                0\n",
      "2002                0\n",
      "2003                0\n",
      "2004                0\n",
      "2005                0\n",
      "2006                0\n",
      "2007                0\n",
      "2008                0\n",
      "2009                0\n",
      "2010                0\n",
      "2011                0\n",
      "2012                0\n",
      "2013                0\n",
      "2014                0\n",
      "2015                0\n",
      "2016                0\n",
      "2017                0\n",
      "2018                0\n",
      "2019                0\n",
      "2020                0\n",
      "2021                0\n",
      "2022                0\n",
      "2023                0\n",
      "Note                0\n",
      "dtype: int64,\n",
      "\n"
     ]
    }
   ],
   "source": [
    "# Counts empty string values in each column\n",
    "print(f\"empty string values in each column : \\n,{(proj_data==' ').sum()},\\n\")"
   ]
  },
  {
   "cell_type": "code",
   "execution_count": 66,
   "id": "4daa8bcd",
   "metadata": {},
   "outputs": [
    {
     "name": "stdout",
     "output_type": "stream",
     "text": [
      "Count of duplicate records : \u000b 0 \n",
      "\n"
     ]
    }
   ],
   "source": [
    "\n",
    "\n",
    "print(f\"Count of duplicate records : \\v {proj_data.duplicated().sum()} \\n\")\n",
    "#zero duplicates : else : proj_data = proj_data.drop_duplicates()"
   ]
  },
  {
   "cell_type": "code",
   "execution_count": 67,
   "id": "acd7489d",
   "metadata": {},
   "outputs": [
    {
     "name": "stdout",
     "output_type": "stream",
     "text": [
      "col wise null values : percentage : \n",
      " Country Code         0.487805\n",
      "IMF Country Code     0.975610\n",
      "Country              0.975610\n",
      "Indicator Type       0.975610\n",
      "Series Name          0.975610\n",
      "1970                24.390244\n",
      "1971                24.390244\n",
      "1972                24.390244\n",
      "1973                23.902439\n",
      "1974                23.902439\n",
      "1975                24.878049\n",
      "1976                24.878049\n",
      "1977                24.878049\n",
      "1978                24.390244\n",
      "1979                24.390244\n",
      "1980                22.926829\n",
      "1981                20.975610\n",
      "1982                20.487805\n",
      "1983                20.487805\n",
      "1984                20.487805\n",
      "1985                20.487805\n",
      "1986                20.000000\n",
      "1987                19.512195\n",
      "1988                19.512195\n",
      "1989                19.512195\n",
      "1990                19.024390\n",
      "1991                17.560976\n",
      "1992                14.634146\n",
      "1993                12.682927\n",
      "1994                12.195122\n",
      "1995                11.707317\n",
      "1996                10.243902\n",
      "1997                 9.756098\n",
      "1998                 9.268293\n",
      "1999                 8.780488\n",
      "2000                 8.292683\n",
      "2001                 6.829268\n",
      "2002                 6.829268\n",
      "2003                 5.365854\n",
      "2004                 4.878049\n",
      "2005                 3.414634\n",
      "2006                 3.414634\n",
      "2007                 3.414634\n",
      "2008                 3.414634\n",
      "2009                 3.414634\n",
      "2010                 3.414634\n",
      "2011                 3.414634\n",
      "2012                 2.439024\n",
      "2013                 1.951220\n",
      "2014                 1.951220\n",
      "2015                 1.951220\n",
      "2016                 1.951220\n",
      "2017                 2.439024\n",
      "2018                 2.439024\n",
      "2019                 2.439024\n",
      "2020                 2.926829\n",
      "2021                 3.414634\n",
      "2022                 3.414634\n",
      "2023                 4.878049\n",
      "Note                 0.975610\n",
      "dtype: float64\n"
     ]
    }
   ],
   "source": [
    "#col wise null values : percentage : \n",
    "print('col wise null values : percentage : \\n', proj_data.isnull().mean() * 100) \n",
    "#none of the cols have more than 50% null values"
   ]
  },
  {
   "cell_type": "code",
   "execution_count": 68,
   "id": "43f88f19",
   "metadata": {},
   "outputs": [
    {
     "name": "stdout",
     "output_type": "stream",
     "text": [
      "Checking if any pattern in missing data exists : \n",
      "\n"
     ]
    },
    {
     "data": {
      "image/png": "[encoded data removed]",
      "text/plain": [
       "<Figure size 1000x600 with 2 Axes>"
      ]
     },
     "metadata": {},
     "output_type": "display_data"
    }
   ],
   "source": [
    "#checking for patterens in missing data:\n",
    "print(\"Checking if any pattern in missing data exists : \\n\")\n",
    "plt.figure(figsize=(10,6))\n",
    "sns.heatmap(proj_data.isnull(), cmap='Blues', cbar=True, yticklabels=False)\n",
    "plt.show()\n"
   ]
  },
  {
   "cell_type": "code",
   "execution_count": 69,
   "id": "57d3247e",
   "metadata": {},
   "outputs": [
    {
     "name": "stdout",
     "output_type": "stream",
     "text": [
      "\n",
      " Checking country wise missing data pattern \n",
      "\n"
     ]
    },
    {
     "data": {
      "image/png": "[encoded data removed]",
      "text/plain": [
       "<Figure size 1000x600 with 2 Axes>"
      ]
     },
     "metadata": {},
     "output_type": "display_data"
    }
   ],
   "source": [
    "#for just country column:\n",
    "print('\\n Checking country wise missing data pattern \\n')\n",
    "plt.figure(figsize=(10,6))\n",
    "sns.heatmap(proj_data[['Country']].isnull(), cmap='viridis', cbar=True, yticklabels=False)\n",
    "plt.show()\n"
   ]
  },
  {
   "cell_type": "markdown",
   "id": "48275945",
   "metadata": {},
   "source": [
    "## less effective in such huge data with low missing values\n"
   ]
  },
  {
   "cell_type": "code",
   "execution_count": 70,
   "id": "ff9fe58e",
   "metadata": {},
   "outputs": [
    {
     "name": "stdout",
     "output_type": "stream",
     "text": [
      "\n",
      " missing country wise data : \n",
      " 0      False\n",
      "1      False\n",
      "2      False\n",
      "3      False\n",
      "4      False\n",
      "       ...  \n",
      "200    False\n",
      "201    False\n",
      "202    False\n",
      "203     True\n",
      "204     True\n",
      "Name: Country, Length: 205, dtype: bool \n",
      "\n"
     ]
    }
   ],
   "source": [
    "print(f\"\\n missing country wise data : \\n {proj_data['Country'].isnull()} \\n\")"
   ]
  },
  {
   "cell_type": "code",
   "execution_count": 71,
   "id": "39767c09",
   "metadata": {},
   "outputs": [
    {
     "name": "stdout",
     "output_type": "stream",
     "text": [
      "Threshold= 50`%` of total row count :\u000b  102.5\n",
      "\n",
      " count of non-null values per col : \u000b Country Code        204\n",
      "IMF Country Code    203\n",
      "Country             203\n",
      "Indicator Type      203\n",
      "Series Name         203\n",
      "1970                155\n",
      "1971                155\n",
      "1972                155\n",
      "1973                156\n",
      "1974                156\n",
      "1975                154\n",
      "1976                154\n",
      "1977                154\n",
      "1978                155\n",
      "1979                155\n",
      "1980                158\n",
      "1981                162\n",
      "1982                163\n",
      "1983                163\n",
      "1984                163\n",
      "1985                163\n",
      "1986                164\n",
      "1987                165\n",
      "1988                165\n",
      "1989                165\n",
      "1990                166\n",
      "1991                169\n",
      "1992                175\n",
      "1993                179\n",
      "1994                180\n",
      "1995                181\n",
      "1996                184\n",
      "1997                185\n",
      "1998                186\n",
      "1999                187\n",
      "2000                188\n",
      "2001                191\n",
      "2002                191\n",
      "2003                194\n",
      "2004                195\n",
      "2005                198\n",
      "2006                198\n",
      "2007                198\n",
      "2008                198\n",
      "2009                198\n",
      "2010                198\n",
      "2011                198\n",
      "2012                200\n",
      "2013                201\n",
      "2014                201\n",
      "2015                201\n",
      "2016                201\n",
      "2017                200\n",
      "2018                200\n",
      "2019                200\n",
      "2020                199\n",
      "2021                198\n",
      "2022                198\n",
      "2023                195\n",
      "Note                203\n",
      "dtype: int64\n",
      "\n"
     ]
    }
   ],
   "source": [
    "print('Threshold= 50`%` of total row count :\\v ', len(proj_data)*0.5)\n",
    "print(f\"\\n count of non-null values per col : \\v {proj_data.count()}\\n\") \n",
    "#so no col will be dropped by using : proj_data.dropna(thres = len(proj_data)* 0.5,axis=1) : \n",
    "# as all have more than 50% non-null values\n"
   ]
  },
  {
   "cell_type": "code",
   "execution_count": 72,
   "id": "43d3aa93",
   "metadata": {},
   "outputs": [],
   "source": [
    "#since numerical data col is time series data : forward-fill missing values :\n",
    "#should not do ffill on entire data : categorical cols exist : proj_data = proj_data.fillna(method='ffill')\n",
    "\n",
    "#since categorical cols have less than 1 % missing values and there exists diverse data as country & country code col\n",
    "#replace missing categorical data with 'unknown' keeps data neutral\n",
    "\n",
    "#pick dtypes from info \n",
    "#seperate different dtypes of col\n",
    "categorical_col = proj_data.select_dtypes(include=['object']).columns\n",
    "numerical_col = proj_data.select_dtypes(include=['float64']).columns\n",
    "\n",
    "proj_data[categorical_col] = proj_data[categorical_col].fillna(\"unknown\")\n",
    "\n",
    "#proj_data[numerical_col]=proj_data[numerical_col].apply(pd.to_numeric, errors='coerce')\n",
    "\n",
    "#forward and backward fill :\n",
    "proj_data[numerical_col]=proj_data[numerical_col].ffill() \n",
    "#in case missing value is present in row1:\n",
    "proj_data[numerical_col]=proj_data[numerical_col].bfill()"
   ]
  },
  {
   "cell_type": "code",
   "execution_count": 73,
   "id": "76ecdfa1",
   "metadata": {},
   "outputs": [
    {
     "name": "stdout",
     "output_type": "stream",
     "text": [
      "\n",
      " count of values in each col after clean-up :\n",
      " Country Code        205\n",
      "IMF Country Code    205\n",
      "Country             205\n",
      "Indicator Type      205\n",
      "Series Name         205\n",
      "1970                205\n",
      "1971                205\n",
      "1972                205\n",
      "1973                205\n",
      "1974                205\n",
      "1975                205\n",
      "1976                205\n",
      "1977                205\n",
      "1978                205\n",
      "1979                205\n",
      "1980                205\n",
      "1981                205\n",
      "1982                205\n",
      "1983                205\n",
      "1984                205\n",
      "1985                205\n",
      "1986                205\n",
      "1987                205\n",
      "1988                205\n",
      "1989                205\n",
      "1990                205\n",
      "1991                205\n",
      "1992                205\n",
      "1993                205\n",
      "1994                205\n",
      "1995                205\n",
      "1996                205\n",
      "1997                205\n",
      "1998                205\n",
      "1999                205\n",
      "2000                205\n",
      "2001                205\n",
      "2002                205\n",
      "2003                205\n",
      "2004                205\n",
      "2005                205\n",
      "2006                205\n",
      "2007                205\n",
      "2008                205\n",
      "2009                205\n",
      "2010                205\n",
      "2011                205\n",
      "2012                205\n",
      "2013                205\n",
      "2014                205\n",
      "2015                205\n",
      "2016                205\n",
      "2017                205\n",
      "2018                205\n",
      "2019                205\n",
      "2020                205\n",
      "2021                205\n",
      "2022                205\n",
      "2023                205\n",
      "Note                205\n",
      "dtype: int64\n"
     ]
    }
   ],
   "source": [
    "#cleaned up data:\n",
    "print('\\n count of values in each col after clean-up :\\n', proj_data.isnull().count()) #205 for all cols\n"
   ]
  },
  {
   "cell_type": "code",
   "execution_count": 74,
   "id": "c8efd1e6",
   "metadata": {},
   "outputs": [
    {
     "name": "stdout",
     "output_type": "stream",
     "text": [
      "\n",
      " null count : \n",
      " 0\n",
      "\n"
     ]
    }
   ],
   "source": [
    "print(f\"\\n null count : \\n {proj_data.isnull().sum().sum()}\\n\")#1"
   ]
  },
  {
   "cell_type": "code",
   "execution_count": 75,
   "id": "6f86f65f",
   "metadata": {},
   "outputs": [
    {
     "name": "stdout",
     "output_type": "stream",
     "text": [
      "\n",
      " null count : \n",
      " Country Code        0\n",
      "IMF Country Code    0\n",
      "Country             0\n",
      "Indicator Type      0\n",
      "Series Name         0\n",
      "1970                0\n",
      "1971                0\n",
      "1972                0\n",
      "1973                0\n",
      "1974                0\n",
      "1975                0\n",
      "1976                0\n",
      "1977                0\n",
      "1978                0\n",
      "1979                0\n",
      "1980                0\n",
      "1981                0\n",
      "1982                0\n",
      "1983                0\n",
      "1984                0\n",
      "1985                0\n",
      "1986                0\n",
      "1987                0\n",
      "1988                0\n",
      "1989                0\n",
      "1990                0\n",
      "1991                0\n",
      "1992                0\n",
      "1993                0\n",
      "1994                0\n",
      "1995                0\n",
      "1996                0\n",
      "1997                0\n",
      "1998                0\n",
      "1999                0\n",
      "2000                0\n",
      "2001                0\n",
      "2002                0\n",
      "2003                0\n",
      "2004                0\n",
      "2005                0\n",
      "2006                0\n",
      "2007                0\n",
      "2008                0\n",
      "2009                0\n",
      "2010                0\n",
      "2011                0\n",
      "2012                0\n",
      "2013                0\n",
      "2014                0\n",
      "2015                0\n",
      "2016                0\n",
      "2017                0\n",
      "2018                0\n",
      "2019                0\n",
      "2020                0\n",
      "2021                0\n",
      "2022                0\n",
      "2023                0\n",
      "Note                0\n",
      "dtype: int64\n",
      "\n",
      "\n",
      "checking values in year 2023 : \n",
      "            2023\n",
      "0      5.565224\n",
      "1      5.565224\n",
      "2      9.322174\n",
      "3     13.644102\n",
      "4      5.067139\n",
      "5    128.414708\n",
      "6      1.980419\n",
      "7      3.366000\n",
      "8      5.597015\n",
      "9      7.814134\n",
      "10     8.785430\n",
      "11     3.441609\n",
      "12     0.178294\n",
      "13     9.783334\n",
      "14    11.023470\n",
      "15     5.000599\n",
      "16     4.049011\n",
      "17     4.515479\n",
      "18     4.410912\n",
      "19     4.005472\n",
      "20     2.576888\n",
      "21     6.098000\n",
      "22     5.067615\n",
      "23     4.593563\n",
      "24     4.593563\n",
      "25     0.357064\n",
      "26     9.442841\n",
      "27     0.742910\n",
      "28    26.941484\n",
      "29     4.509157\n",
      "30     2.127468\n",
      "31     7.382814\n",
      "32     3.879002\n",
      "33     3.879002\n",
      "34     2.979139\n",
      "35    10.083436\n",
      "36     7.581683\n",
      "37     0.234837\n",
      "38    11.735904\n",
      "39     8.482000\n",
      "40    19.894000\n",
      "41     4.301746\n",
      "42     0.525194\n",
      "43     4.387117\n",
      "44     7.941282\n",
      "45     7.941282\n",
      "46     3.541342\n",
      "47    10.661260\n",
      "48     3.305178\n",
      "49     1.800000\n",
      "50     4.094419\n",
      "51     4.785613\n",
      "52     2.215688\n",
      "53    33.884776\n",
      "54     4.045547\n",
      "55     4.313637\n",
      "56     9.159225\n",
      "57     9.452177\n",
      "58    32.295347\n",
      "59     1.374490\n",
      "60     6.250643\n",
      "61     4.878357\n",
      "62     3.629015\n",
      "63    16.974213\n",
      "64     2.487761\n",
      "65     5.946437\n",
      "66    38.106966\n",
      "67     3.464801\n",
      "68     2.861064\n",
      "69     6.266397\n",
      "70     7.804976\n",
      "71    10.062156\n",
      "72     2.821103\n",
      "73    43.577101\n",
      "74     6.663252\n",
      "75     1.943635\n",
      "76    17.124966\n",
      "77     8.736303\n",
      "78     5.558090\n",
      "79     3.670131\n",
      "80    44.579186\n",
      "81     4.487525\n",
      "82     6.299622\n",
      "83     4.225352\n",
      "84     5.622194\n",
      "85     6.618937\n",
      "86     3.268134\n",
      "87     2.084870\n",
      "88    14.716801\n",
      "89     7.675000\n",
      "90     9.277000\n",
      "91     3.592814\n",
      "92     4.944227\n",
      "93     3.642164\n",
      "94    10.753277\n",
      "95    31.230134\n",
      "96     8.938046\n",
      "97   221.341644\n",
      "98     6.342217\n",
      "99     2.555177\n",
      "100    2.555177\n",
      "101    6.350283\n",
      "102    9.117320\n",
      "103    3.741404\n",
      "104    0.936000\n",
      "105    9.361872\n",
      "106    9.861000\n",
      "107   28.789743\n",
      "108    2.795643\n",
      "109    3.156014\n",
      "110    2.058802\n",
      "111    5.110927\n",
      "112    6.753000\n",
      "113    6.753000\n",
      "114    4.949000\n",
      "115    7.052982\n",
      "116    5.527961\n",
      "117    6.210000\n",
      "118   16.831680\n",
      "119   10.347583\n",
      "120    8.584769\n",
      "121    8.584769\n",
      "122    6.091142\n",
      "123    7.126975\n",
      "124   27.100000\n",
      "125    5.879935\n",
      "126    6.203000\n",
      "127    7.114760\n",
      "128    3.838394\n",
      "129    1.746999\n",
      "130    5.733163\n",
      "131    9.342283\n",
      "132    3.700973\n",
      "133   23.315892\n",
      "134    8.600478\n",
      "135    5.517850\n",
      "136    0.947000\n",
      "137   30.768128\n",
      "138   12.652119\n",
      "139    1.486414\n",
      "140    1.544945\n",
      "141    4.632023\n",
      "142    6.455613\n",
      "143    5.978025\n",
      "144   11.528913\n",
      "145    4.311282\n",
      "146    0.000000\n",
      "147    3.027649\n",
      "148   10.397187\n",
      "149    5.859000\n",
      "150   19.789547\n",
      "151    2.604802\n",
      "152    7.966663\n",
      "153    6.079000\n",
      "154   23.861239\n",
      "155    2.327085\n",
      "156    7.667579\n",
      "157   12.371904\n",
      "158   -1.035000\n",
      "159   47.642873\n",
      "160    4.821467\n",
      "161   10.531948\n",
      "162    7.446877\n",
      "163    4.490000\n",
      "164    6.073909\n",
      "165    2.382804\n",
      "166    3.532361\n",
      "167   16.541174\n",
      "168    3.998049\n",
      "169    3.651000\n",
      "170    4.571000\n",
      "171  171.471000\n",
      "172   57.559801\n",
      "173    4.949000\n",
      "174    8.548625\n",
      "175    2.135401\n",
      "176    2.135401\n",
      "177    3.500230\n",
      "178    4.028555\n",
      "179    3.876242\n",
      "180    8.420000\n",
      "181    5.059000\n",
      "182    6.577421\n",
      "183    5.917354\n",
      "184    9.328996\n",
      "185   53.859409\n",
      "186   -1.738000\n",
      "187   -1.738000\n",
      "188    6.205000\n",
      "189    5.350948\n",
      "190   12.849022\n",
      "191    1.623000\n",
      "192    6.793967\n",
      "193    4.116338\n",
      "194    5.869104\n",
      "195    9.951000\n",
      "196   13.002878\n",
      "197  337.458000\n",
      "198    3.252893\n",
      "199    5.871102\n",
      "200   -1.225000\n",
      "201   10.953000\n",
      "202  105.401982\n",
      "203  105.401982\n",
      "204  105.401982\n"
     ]
    }
   ],
   "source": [
    "print(f\"\\n null count : \\n {proj_data.isnull().sum()}\\n\") #1 in 2023\n",
    "#optional : here data is small enough for a mannual check:\n",
    "print('\\nchecking values in year 2023 : \\n', proj_data[[2023]].to_string())"
   ]
  },
  {
   "cell_type": "code",
   "execution_count": 76,
   "id": "961d65a1",
   "metadata": {},
   "outputs": [],
   "source": [
    "#in order to ensure no hidden null are there:\n",
    "#Sometimes, columns may have \"hidden\" NaN values if they’re stored as objects (strings) instead of numeric types.\n",
    "proj_data[numerical_col]=proj_data[numerical_col].apply(pd.to_numeric, errors='coerce')"
   ]
  },
  {
   "cell_type": "code",
   "execution_count": 77,
   "id": "340a175f",
   "metadata": {},
   "outputs": [
    {
     "name": "stdout",
     "output_type": "stream",
     "text": [
      "\n",
      " null count : \n",
      " Country Code        0\n",
      "IMF Country Code    0\n",
      "Country             0\n",
      "Indicator Type      0\n",
      "Series Name         0\n",
      "1970                0\n",
      "1971                0\n",
      "1972                0\n",
      "1973                0\n",
      "1974                0\n",
      "1975                0\n",
      "1976                0\n",
      "1977                0\n",
      "1978                0\n",
      "1979                0\n",
      "1980                0\n",
      "1981                0\n",
      "1982                0\n",
      "1983                0\n",
      "1984                0\n",
      "1985                0\n",
      "1986                0\n",
      "1987                0\n",
      "1988                0\n",
      "1989                0\n",
      "1990                0\n",
      "1991                0\n",
      "1992                0\n",
      "1993                0\n",
      "1994                0\n",
      "1995                0\n",
      "1996                0\n",
      "1997                0\n",
      "1998                0\n",
      "1999                0\n",
      "2000                0\n",
      "2001                0\n",
      "2002                0\n",
      "2003                0\n",
      "2004                0\n",
      "2005                0\n",
      "2006                0\n",
      "2007                0\n",
      "2008                0\n",
      "2009                0\n",
      "2010                0\n",
      "2011                0\n",
      "2012                0\n",
      "2013                0\n",
      "2014                0\n",
      "2015                0\n",
      "2016                0\n",
      "2017                0\n",
      "2018                0\n",
      "2019                0\n",
      "2020                0\n",
      "2021                0\n",
      "2022                0\n",
      "2023                0\n",
      "Note                0\n",
      "dtype: int64\n",
      "\n"
     ]
    }
   ],
   "source": [
    "print(f\"\\n null count : \\n {proj_data.isnull().sum()}\\n\") #0 in 2023"
   ]
  },
  {
   "cell_type": "code",
   "execution_count": 78,
   "id": "1beaa3cd",
   "metadata": {},
   "outputs": [
    {
     "name": "stdout",
     "output_type": "stream",
     "text": [
      "\n",
      "checking values in year 2023 : \n",
      "            2023\n",
      "0      5.565224\n",
      "1      5.565224\n",
      "2      9.322174\n",
      "3     13.644102\n",
      "4      5.067139\n",
      "5    128.414708\n",
      "6      1.980419\n",
      "7      3.366000\n",
      "8      5.597015\n",
      "9      7.814134\n",
      "10     8.785430\n",
      "11     3.441609\n",
      "12     0.178294\n",
      "13     9.783334\n",
      "14    11.023470\n",
      "15     5.000599\n",
      "16     4.049011\n",
      "17     4.515479\n",
      "18     4.410912\n",
      "19     4.005472\n",
      "20     2.576888\n",
      "21     6.098000\n",
      "22     5.067615\n",
      "23     4.593563\n",
      "24     4.593563\n",
      "25     0.357064\n",
      "26     9.442841\n",
      "27     0.742910\n",
      "28    26.941484\n",
      "29     4.509157\n",
      "30     2.127468\n",
      "31     7.382814\n",
      "32     3.879002\n",
      "33     3.879002\n",
      "34     2.979139\n",
      "35    10.083436\n",
      "36     7.581683\n",
      "37     0.234837\n",
      "38    11.735904\n",
      "39     8.482000\n",
      "40    19.894000\n",
      "41     4.301746\n",
      "42     0.525194\n",
      "43     4.387117\n",
      "44     7.941282\n",
      "45     7.941282\n",
      "46     3.541342\n",
      "47    10.661260\n",
      "48     3.305178\n",
      "49     1.800000\n",
      "50     4.094419\n",
      "51     4.785613\n",
      "52     2.215688\n",
      "53    33.884776\n",
      "54     4.045547\n",
      "55     4.313637\n",
      "56     9.159225\n",
      "57     9.452177\n",
      "58    32.295347\n",
      "59     1.374490\n",
      "60     6.250643\n",
      "61     4.878357\n",
      "62     3.629015\n",
      "63    16.974213\n",
      "64     2.487761\n",
      "65     5.946437\n",
      "66    38.106966\n",
      "67     3.464801\n",
      "68     2.861064\n",
      "69     6.266397\n",
      "70     7.804976\n",
      "71    10.062156\n",
      "72     2.821103\n",
      "73    43.577101\n",
      "74     6.663252\n",
      "75     1.943635\n",
      "76    17.124966\n",
      "77     8.736303\n",
      "78     5.558090\n",
      "79     3.670131\n",
      "80    44.579186\n",
      "81     4.487525\n",
      "82     6.299622\n",
      "83     4.225352\n",
      "84     5.622194\n",
      "85     6.618937\n",
      "86     3.268134\n",
      "87     2.084870\n",
      "88    14.716801\n",
      "89     7.675000\n",
      "90     9.277000\n",
      "91     3.592814\n",
      "92     4.944227\n",
      "93     3.642164\n",
      "94    10.753277\n",
      "95    31.230134\n",
      "96     8.938046\n",
      "97   221.341644\n",
      "98     6.342217\n",
      "99     2.555177\n",
      "100    2.555177\n",
      "101    6.350283\n",
      "102    9.117320\n",
      "103    3.741404\n",
      "104    0.936000\n",
      "105    9.361872\n",
      "106    9.861000\n",
      "107   28.789743\n",
      "108    2.795643\n",
      "109    3.156014\n",
      "110    2.058802\n",
      "111    5.110927\n",
      "112    6.753000\n",
      "113    6.753000\n",
      "114    4.949000\n",
      "115    7.052982\n",
      "116    5.527961\n",
      "117    6.210000\n",
      "118   16.831680\n",
      "119   10.347583\n",
      "120    8.584769\n",
      "121    8.584769\n",
      "122    6.091142\n",
      "123    7.126975\n",
      "124   27.100000\n",
      "125    5.879935\n",
      "126    6.203000\n",
      "127    7.114760\n",
      "128    3.838394\n",
      "129    1.746999\n",
      "130    5.733163\n",
      "131    9.342283\n",
      "132    3.700973\n",
      "133   23.315892\n",
      "134    8.600478\n",
      "135    5.517850\n",
      "136    0.947000\n",
      "137   30.768128\n",
      "138   12.652119\n",
      "139    1.486414\n",
      "140    1.544945\n",
      "141    4.632023\n",
      "142    6.455613\n",
      "143    5.978025\n",
      "144   11.528913\n",
      "145    4.311282\n",
      "146    0.000000\n",
      "147    3.027649\n",
      "148   10.397187\n",
      "149    5.859000\n",
      "150   19.789547\n",
      "151    2.604802\n",
      "152    7.966663\n",
      "153    6.079000\n",
      "154   23.861239\n",
      "155    2.327085\n",
      "156    7.667579\n",
      "157   12.371904\n",
      "158   -1.035000\n",
      "159   47.642873\n",
      "160    4.821467\n",
      "161   10.531948\n",
      "162    7.446877\n",
      "163    4.490000\n",
      "164    6.073909\n",
      "165    2.382804\n",
      "166    3.532361\n",
      "167   16.541174\n",
      "168    3.998049\n",
      "169    3.651000\n",
      "170    4.571000\n",
      "171  171.471000\n",
      "172   57.559801\n",
      "173    4.949000\n",
      "174    8.548625\n",
      "175    2.135401\n",
      "176    2.135401\n",
      "177    3.500230\n",
      "178    4.028555\n",
      "179    3.876242\n",
      "180    8.420000\n",
      "181    5.059000\n",
      "182    6.577421\n",
      "183    5.917354\n",
      "184    9.328996\n",
      "185   53.859409\n",
      "186   -1.738000\n",
      "187   -1.738000\n",
      "188    6.205000\n",
      "189    5.350948\n",
      "190   12.849022\n",
      "191    1.623000\n",
      "192    6.793967\n",
      "193    4.116338\n",
      "194    5.869104\n",
      "195    9.951000\n",
      "196   13.002878\n",
      "197  337.458000\n",
      "198    3.252893\n",
      "199    5.871102\n",
      "200   -1.225000\n",
      "201   10.953000\n",
      "202  105.401982\n",
      "203  105.401982\n",
      "204  105.401982\n"
     ]
    }
   ],
   "source": [
    "print('\\nchecking values in year 2023 : \\n', proj_data[[2023]].to_string())"
   ]
  },
  {
   "cell_type": "code",
   "execution_count": 79,
   "id": "e74d8a66",
   "metadata": {},
   "outputs": [
    {
     "name": "stdout",
     "output_type": "stream",
     "text": [
      "\n",
      " null count : \n",
      " 0\n",
      "\n"
     ]
    }
   ],
   "source": [
    "print(f\"\\n null count : \\n {proj_data.isnull().sum().sum()}\\n\")#0\n",
    "#it wasn’t a truly missing value but a misformatted numeric value that got properly converted.\n",
    "#pd.to_numeric(), it fixed the formatting issue and converted it into a proper number.\n",
    "#takeaway : apply pd.to_numeric before Filling in NaN values."
   ]
  },
  {
   "cell_type": "code",
   "execution_count": 80,
   "id": "7714cd5c",
   "metadata": {},
   "outputs": [
    {
     "name": "stdout",
     "output_type": "stream",
     "text": [
      "<class 'pandas.core.frame.DataFrame'>\n",
      "RangeIndex: 205 entries, 0 to 204\n",
      "Data columns (total 60 columns):\n",
      " #   Column            Non-Null Count  Dtype  \n",
      "---  ------            --------------  -----  \n",
      " 0   Country Code      205 non-null    object \n",
      " 1   IMF Country Code  205 non-null    float64\n",
      " 2   Country           205 non-null    object \n",
      " 3   Indicator Type    205 non-null    object \n",
      " 4   Series Name       205 non-null    object \n",
      " 5   1970              205 non-null    float64\n",
      " 6   1971              205 non-null    float64\n",
      " 7   1972              205 non-null    float64\n",
      " 8   1973              205 non-null    float64\n",
      " 9   1974              205 non-null    float64\n",
      " 10  1975              205 non-null    float64\n",
      " 11  1976              205 non-null    float64\n",
      " 12  1977              205 non-null    float64\n",
      " 13  1978              205 non-null    float64\n",
      " 14  1979              205 non-null    float64\n",
      " 15  1980              205 non-null    float64\n",
      " 16  1981              205 non-null    float64\n",
      " 17  1982              205 non-null    float64\n",
      " 18  1983              205 non-null    float64\n",
      " 19  1984              205 non-null    float64\n",
      " 20  1985              205 non-null    float64\n",
      " 21  1986              205 non-null    float64\n",
      " 22  1987              205 non-null    float64\n",
      " 23  1988              205 non-null    float64\n",
      " 24  1989              205 non-null    float64\n",
      " 25  1990              205 non-null    float64\n",
      " 26  1991              205 non-null    float64\n",
      " 27  1992              205 non-null    float64\n",
      " 28  1993              205 non-null    float64\n",
      " 29  1994              205 non-null    float64\n",
      " 30  1995              205 non-null    float64\n",
      " 31  1996              205 non-null    float64\n",
      " 32  1997              205 non-null    float64\n",
      " 33  1998              205 non-null    float64\n",
      " 34  1999              205 non-null    float64\n",
      " 35  2000              205 non-null    float64\n",
      " 36  2001              205 non-null    float64\n",
      " 37  2002              205 non-null    float64\n",
      " 38  2003              205 non-null    float64\n",
      " 39  2004              205 non-null    float64\n",
      " 40  2005              205 non-null    float64\n",
      " 41  2006              205 non-null    float64\n",
      " 42  2007              205 non-null    float64\n",
      " 43  2008              205 non-null    float64\n",
      " 44  2009              205 non-null    float64\n",
      " 45  2010              205 non-null    float64\n",
      " 46  2011              205 non-null    float64\n",
      " 47  2012              205 non-null    float64\n",
      " 48  2013              205 non-null    float64\n",
      " 49  2014              205 non-null    float64\n",
      " 50  2015              205 non-null    float64\n",
      " 51  2016              205 non-null    float64\n",
      " 52  2017              205 non-null    float64\n",
      " 53  2018              205 non-null    float64\n",
      " 54  2019              205 non-null    float64\n",
      " 55  2020              205 non-null    float64\n",
      " 56  2021              205 non-null    float64\n",
      " 57  2022              205 non-null    float64\n",
      " 58  2023              205 non-null    float64\n",
      " 59  Note              205 non-null    object \n",
      "dtypes: float64(55), object(5)\n",
      "memory usage: 96.2+ KB\n",
      "None\n",
      "\n",
      " Cleaned data saved as CSV\n",
      "\n",
      "Cleaned data loaded from CSV, Success!\n"
     ]
    }
   ],
   "source": [
    "print(proj_data.info())\n",
    "filename_u = 'Cleaned_file'\n",
    "proj_data.to_csv(f\"{filename_u}.csv\", index=False)\n",
    "print(\"\\n Cleaned data saved as CSV\")\n",
    "\n",
    "cleaned_file = r'C:\\Users\\KIIT\\Global_Inflation_Analysis\\cleaned_proj_data.csv'\n",
    "proj_data = pd.read_csv(cleaned_file)\n",
    "print(\"\\nCleaned data loaded from CSV, Success!\")"
   ]
  },
  {
   "cell_type": "markdown",
   "id": "fc1d718a",
   "metadata": {},
   "source": [
    "# Clean Up and Analysis Completed : Moving to EDA phase"
   ]
  },
  {
   "cell_type": "code",
   "execution_count": 81,
   "id": "ab3fbe60",
   "metadata": {},
   "outputs": [
    {
     "name": "stdout",
     "output_type": "stream",
     "text": [
      " Project in EDA Phase : \n",
      "\n",
      "<class 'pandas.core.frame.DataFrame'>\n",
      "RangeIndex: 205 entries, 0 to 204\n",
      "Data columns (total 60 columns):\n",
      " #   Column            Non-Null Count  Dtype  \n",
      "---  ------            --------------  -----  \n",
      " 0   Country Code      205 non-null    object \n",
      " 1   IMF Country Code  205 non-null    float64\n",
      " 2   Country           205 non-null    object \n",
      " 3   Indicator Type    205 non-null    object \n",
      " 4   Series Name       205 non-null    object \n",
      " 5   1970              205 non-null    float64\n",
      " 6   1971              205 non-null    float64\n",
      " 7   1972              205 non-null    float64\n",
      " 8   1973              205 non-null    float64\n",
      " 9   1974              205 non-null    float64\n",
      " 10  1975              205 non-null    float64\n",
      " 11  1976              205 non-null    float64\n",
      " 12  1977              205 non-null    float64\n",
      " 13  1978              205 non-null    float64\n",
      " 14  1979              205 non-null    float64\n",
      " 15  1980              205 non-null    float64\n",
      " 16  1981              205 non-null    float64\n",
      " 17  1982              205 non-null    float64\n",
      " 18  1983              205 non-null    float64\n",
      " 19  1984              205 non-null    float64\n",
      " 20  1985              205 non-null    float64\n",
      " 21  1986              205 non-null    float64\n",
      " 22  1987              205 non-null    float64\n",
      " 23  1988              205 non-null    float64\n",
      " 24  1989              205 non-null    float64\n",
      " 25  1990              205 non-null    float64\n",
      " 26  1991              205 non-null    float64\n",
      " 27  1992              205 non-null    float64\n",
      " 28  1993              205 non-null    float64\n",
      " 29  1994              205 non-null    float64\n",
      " 30  1995              205 non-null    float64\n",
      " 31  1996              205 non-null    float64\n",
      " 32  1997              205 non-null    float64\n",
      " 33  1998              205 non-null    float64\n",
      " 34  1999              205 non-null    float64\n",
      " 35  2000              205 non-null    float64\n",
      " 36  2001              205 non-null    float64\n",
      " 37  2002              205 non-null    float64\n",
      " 38  2003              205 non-null    float64\n",
      " 39  2004              205 non-null    float64\n",
      " 40  2005              205 non-null    float64\n",
      " 41  2006              205 non-null    float64\n",
      " 42  2007              205 non-null    float64\n",
      " 43  2008              205 non-null    float64\n",
      " 44  2009              205 non-null    float64\n",
      " 45  2010              205 non-null    float64\n",
      " 46  2011              205 non-null    float64\n",
      " 47  2012              205 non-null    float64\n",
      " 48  2013              205 non-null    float64\n",
      " 49  2014              205 non-null    float64\n",
      " 50  2015              205 non-null    float64\n",
      " 51  2016              205 non-null    float64\n",
      " 52  2017              205 non-null    float64\n",
      " 53  2018              205 non-null    float64\n",
      " 54  2019              205 non-null    float64\n",
      " 55  2020              205 non-null    float64\n",
      " 56  2021              205 non-null    float64\n",
      " 57  2022              205 non-null    float64\n",
      " 58  2023              205 non-null    float64\n",
      " 59  Note              205 non-null    object \n",
      "dtypes: float64(55), object(5)\n",
      "memory usage: 96.2+ KB\n",
      "None \n",
      "\n",
      "\n",
      "  Country Code  IMF Country Code      Country Indicator Type  \\\n",
      "0          AFG             512.0  Afghanistan      Inflation   \n",
      "1          ALB             914.0      Albania      Inflation   \n",
      "2          DZA             612.0      Algeria      Inflation   \n",
      "\n",
      "                         Series Name   1970      1971      1972      1973  \\\n",
      "0  Headline Consumer Price Inflation  25.51  25.51000 -12.52000 -10.68000   \n",
      "1  Headline Consumer Price Inflation  25.51  25.51000 -12.52000 -10.68000   \n",
      "2  Headline Consumer Price Inflation   6.60   2.62664   3.65631   6.17284   \n",
      "\n",
      "       1974  ...      2015      2016   2017  2018   2019      2020      2021  \\\n",
      "0  10.23000  ... -0.660000  4.380000  4.976  0.63  2.302  5.443000  5.062000   \n",
      "1  10.23000  ...  1.910179  1.291234  1.987  2.03  1.411  1.620887  2.041472   \n",
      "2   4.69961  ...  4.391666  5.800304  5.591  3.51  1.952  2.415131  7.226063   \n",
      "\n",
      "        2022      2023                      Note  \n",
      "0  10.600000  5.565224  Annual average inflation  \n",
      "1   6.725203  5.565224  Annual average inflation  \n",
      "2   9.265516  9.322174  Annual average inflation  \n",
      "\n",
      "[3 rows x 60 columns] \n",
      "\n",
      "\n"
     ]
    }
   ],
   "source": [
    "#EDA phase \n",
    "\n",
    "print(\" Project in EDA Phase : \\n\")\n",
    "print(proj_data.info(),'\\n\\n')\n",
    "print(proj_data.head(3),'\\n\\n')"
   ]
  },
  {
   "cell_type": "markdown",
   "id": "ac4abe18",
   "metadata": {},
   "source": [
    "### statistics"
   ]
  },
  {
   "cell_type": "code",
   "execution_count": 82,
   "id": "7e6f4a66",
   "metadata": {},
   "outputs": [
    {
     "name": "stdout",
     "output_type": "stream",
     "text": [
      "Statistics : \n",
      "\n",
      "data description        IMF Country Code        1970        1971        1972        1973  \\\n",
      "count        205.000000  205.000000  205.000000  205.000000  205.000000   \n",
      "mean         548.780488    6.098704    6.700820    8.513989   15.701141   \n",
      "std          257.531391    6.627524    8.313860   12.306728   29.045266   \n",
      "min          111.000000   -5.296370   -3.103850  -12.520000  -10.680000   \n",
      "25%          316.000000    2.344340    2.111325    3.600000    6.918610   \n",
      "50%          566.000000    4.390000    4.766440    5.749507   10.384700   \n",
      "75%          728.000000    6.929850    6.800000    8.389020   15.593043   \n",
      "max          968.000000   36.799999   71.300003   77.795738  352.810974   \n",
      "\n",
      "             1974        1975        1976        1977        1978  ...  \\\n",
      "count  205.000000  205.000000  205.000000  205.000000  205.000000  ...   \n",
      "mean    22.426634   19.500465   19.156713   17.550259   14.934650  ...   \n",
      "std     38.902113   34.927441   55.181338   25.403275   23.823294  ...   \n",
      "min     -0.100000  -34.410000   -8.400720   -1.156690  -15.870000  ...   \n",
      "25%     11.180000    8.791670    4.986810    7.006300    5.000000  ...   \n",
      "50%     17.329000   12.740000    9.625497   11.052094    8.855350  ...   \n",
      "75%     23.898172   19.902800   15.620000   16.868299   13.880000  ...   \n",
      "max    504.738525  374.735291  443.966003  176.001999  175.514999  ...   \n",
      "\n",
      "             2014        2015        2016        2017          2018  \\\n",
      "count  205.000000  205.000000  205.000000  205.000000    205.000000   \n",
      "mean     3.983953    4.202230    6.890869    7.331936    323.413338   \n",
      "std      6.691897   10.811360   32.247057   33.427690   4565.615100   \n",
      "min     -1.413820   -3.752996   -3.093000  -13.306000    -14.400000   \n",
      "25%      0.628543    0.118625    0.140633    1.058000      1.270000   \n",
      "50%      2.122000    1.565365    1.625397    2.183000      2.390000   \n",
      "75%      5.169000    4.659380    5.178742    5.100000      4.280000   \n",
      "max     62.140121  121.397255  379.848999  438.117000  65374.080000   \n",
      "\n",
      "               2019          2020         2021        2022        2023  \n",
      "count    205.000000    205.000000   205.000000  205.000000  205.000000  \n",
      "mean     104.651808    107.105032    16.923136   14.231114   13.666205  \n",
      "std     1390.117337   1204.844061   114.290497   24.993066   33.886627  \n",
      "min      -16.365000     -2.595243    -3.010000   -6.687321   -1.738000  \n",
      "25%        0.906000      0.438089     1.853045    5.543084    3.651000  \n",
      "50%        2.207000      2.209382     3.395193    8.201290    5.871102  \n",
      "75%        4.300000      4.914000     6.048671   11.898165    9.342283  \n",
      "max    19906.023438  17087.723075  1588.513140  200.914000  337.458000  \n",
      "\n",
      "[8 rows x 55 columns]\n"
     ]
    }
   ],
   "source": [
    "#1. Mean, Median, Standard Deviation \n",
    "\n",
    "#1.\n",
    "print(\"Statistics : \\n\")\n",
    "print('data description',proj_data.describe())#.to_string())"
   ]
  },
  {
   "cell_type": "code",
   "execution_count": 83,
   "id": "02870979",
   "metadata": {},
   "outputs": [
    {
     "name": "stdout",
     "output_type": "stream",
     "text": [
      "\n",
      " checking the no of unique countries : \t 204 \n",
      "\n",
      "                            Country\n",
      "0                       Afghanistan\n",
      "1                           Albania\n",
      "2                           Algeria\n",
      "3                            Angola\n",
      "4               Antigua and Barbuda\n",
      "5                         Argentina\n",
      "6                           Armenia\n",
      "7                             Aruba\n",
      "8                         Australia\n",
      "9                           Austria\n",
      "10                       Azerbaijan\n",
      "11                     Bahamas, The\n",
      "12                          Bahrain\n",
      "13                       Bangladesh\n",
      "14                         Barbados\n",
      "15                          Belarus\n",
      "16                          Belgium\n",
      "17                           Belize\n",
      "18                            Benin\n",
      "19                           Bhutan\n",
      "20                          Bolivia\n",
      "21           Bosnia and Herzegovina\n",
      "22                         Botswana\n",
      "23                           Brazil\n",
      "24           British Virgin Islands\n",
      "25                Brunei Darussalam\n",
      "26                         Bulgaria\n",
      "27                     Burkina Faso\n",
      "28                          Burundi\n",
      "29                       Cabo Verde\n",
      "30                         Cambodia\n",
      "31                         Cameroon\n",
      "32                           Canada\n",
      "33                   Cayman Islands\n",
      "34         Central African Republic\n",
      "35                             Chad\n",
      "36                            Chile\n",
      "37                            China\n",
      "38                         Colombia\n",
      "39                          Comoros\n",
      "40                 Congo, Dem. Rep.\n",
      "41                      Congo, Rep.\n",
      "42                       Costa Rica\n",
      "43                    Côte d'Ivoire\n",
      "44                          Croatia\n",
      "45                          Curacao\n",
      "46                           Cyprus\n",
      "47                   Czech Republic\n",
      "48                          Denmark\n",
      "49                         Djibouti\n",
      "50                         Dominica\n",
      "51               Dominican Republic\n",
      "52                          Ecuador\n",
      "53                 Egypt, Arab Rep.\n",
      "54                      El Salvador\n",
      "55                Equatorial Guinea\n",
      "56                          Eritrea\n",
      "57                          Estonia\n",
      "58                         Ethiopia\n",
      "59                             Fiji\n",
      "60                          Finland\n",
      "61                           France\n",
      "62                            Gabon\n",
      "63                      Gambia, The\n",
      "64                          Georgia\n",
      "65                          Germany\n",
      "66                            Ghana\n",
      "67                           Greece\n",
      "68                          Grenada\n",
      "69                        Guatemala\n",
      "70                           Guinea\n",
      "71                    Guinea-Bissau\n",
      "72                           Guyana\n",
      "73                            Haiti\n",
      "74                         Honduras\n",
      "75             Hong Kong SAR, China\n",
      "76                          Hungary\n",
      "77                          Iceland\n",
      "78                            India\n",
      "79                        Indonesia\n",
      "80               Iran, Islamic Rep.\n",
      "81                             Iraq\n",
      "82                          Ireland\n",
      "83                           Israel\n",
      "84                            Italy\n",
      "85                          Jamaica\n",
      "86                            Japan\n",
      "87                           Jordan\n",
      "88                       Kazakhstan\n",
      "89                            Kenya\n",
      "90                         Kiribati\n",
      "91                      Korea, Rep.\n",
      "92                           Kosovo\n",
      "93                           Kuwait\n",
      "94                  Kyrgyz Republic\n",
      "95                          Lao PDR\n",
      "96                           Latvia\n",
      "97                          Lebanon\n",
      "98                          Lesotho\n",
      "99                          Liberia\n",
      "100                           Libya\n",
      "101                   Liechtenstein\n",
      "102                       Lithuania\n",
      "103                      Luxembourg\n",
      "104                Macao SAR, China\n",
      "105                  Macedonia, FYR\n",
      "106                      Madagascar\n",
      "107                          Malawi\n",
      "108                        Malaysia\n",
      "109                        Maldives\n",
      "110                            Mali\n",
      "111                           Malta\n",
      "112                Marshall Islands\n",
      "113                      Martinique\n",
      "114                      Mauritania\n",
      "115                       Mauritius\n",
      "116                          Mexico\n",
      "117           Micronesia, Fed. Sts.\n",
      "118                         Moldova\n",
      "119                        Mongolia\n",
      "120                      Montenegro\n",
      "121                    Montserratit\n",
      "122                         Morocco\n",
      "123                      Mozambique\n",
      "124                         Myanmar\n",
      "125                         Namibia\n",
      "126                           Nauru\n",
      "127                           Nepal\n",
      "128                     Netherlands\n",
      "129                   New Caledonia\n",
      "130                     New Zealand\n",
      "131                       Nicaragua\n",
      "132                           Niger\n",
      "133                         Nigeria\n",
      "134                            Niue\n",
      "135                          Norway\n",
      "136                            Oman\n",
      "137                        Pakistan\n",
      "138                           Palau\n",
      "139                          Panama\n",
      "140                Papua New Guinea\n",
      "141                        Paraguay\n",
      "142                            Peru\n",
      "143                     Philippines\n",
      "144                          Poland\n",
      "145                        Portugal\n",
      "146                     Puerto Rico\n",
      "147                           Qatar\n",
      "148                         Romania\n",
      "149              Russian Federation\n",
      "150                          Rwanda\n",
      "151                    Saint Helena\n",
      "152                           Samoa\n",
      "153                      San Marino\n",
      "154           São Tomé and Principe\n",
      "155                    Saudi Arabia\n",
      "156                         Senegal\n",
      "157                          Serbia\n",
      "158                      Seychelles\n",
      "159                    Sierra Leone\n",
      "160                       Singapore\n",
      "161                 Slovak Republic\n",
      "162                        Slovenia\n",
      "163                 Solomon Islands\n",
      "164                    South Africa\n",
      "165                     South Sudan\n",
      "166                           Spain\n",
      "167                       Sri Lanka\n",
      "168             St. Kitts and Nevis\n",
      "169                       St. Lucia\n",
      "170  St. Vincent and the Grenadines\n",
      "171                           Sudan\n",
      "172                        Suriname\n",
      "173                       Swaziland\n",
      "174                          Sweden\n",
      "175                     Switzerland\n",
      "176            Syrian Arab Republic\n",
      "177                      Tajikistan\n",
      "178                        Tanzania\n",
      "179                        Thailand\n",
      "180                     Timor-Leste\n",
      "181                            Togo\n",
      "182                           Tonga\n",
      "183             Trinidad and Tobago\n",
      "184                         Tunisia\n",
      "185                          Turkey\n",
      "186                    Turkmenistan\n",
      "187        Turks and Caicos Islands\n",
      "188                          Tuvalu\n",
      "189                          Uganda\n",
      "190                         Ukraine\n",
      "191            United Arab Emirates\n",
      "192                  United Kingdom\n",
      "193                   United States\n",
      "194                         Uruguay\n",
      "195                      Uzbekistan\n",
      "196                         Vanuatu\n",
      "197                   Venezuela, RB\n",
      "198                         Vietnam\n",
      "199              West Bank and Gaza\n",
      "200                     Yemen, Rep.\n",
      "201                          Zambia\n",
      "202                        Zimbabwe\n",
      "203                         unknown\n",
      "204                         unknown \n",
      "\n"
     ]
    }
   ],
   "source": [
    "print(f\"\\n checking the no of unique countries : \\t { proj_data['Country'].nunique() } \\n\") #204 : all unique countries\n",
    "#optional : data small enooough to see\n",
    "print(proj_data[['Country']].to_string(),'\\n')\n"
   ]
  },
  {
   "cell_type": "code",
   "execution_count": 84,
   "id": "54d0c7b6",
   "metadata": {},
   "outputs": [
    {
     "name": "stdout",
     "output_type": "stream",
     "text": [
      "Index(['Country Code', 'IMF Country Code', 'Country', 'Indicator Type',\n",
      "       'Series Name', '1970', '1971', '1972', '1973', '1974', '1975', '1976',\n",
      "       '1977', '1978', '1979', '1980', '1981', '1982', '1983', '1984', '1985',\n",
      "       '1986', '1987', '1988', '1989', '1990', '1991', '1992', '1993', '1994',\n",
      "       '1995', '1996', '1997', '1998', '1999', '2000', '2001', '2002', '2003',\n",
      "       '2004', '2005', '2006', '2007', '2008', '2009', '2010', '2011', '2012',\n",
      "       '2013', '2014', '2015', '2016', '2017', '2018', '2019', '2020', '2021',\n",
      "       '2022', '2023', 'Note'],\n",
      "      dtype='object')\n"
     ]
    }
   ],
   "source": [
    "print(proj_data.columns)"
   ]
  },
  {
   "cell_type": "markdown",
   "id": "0b776b47",
   "metadata": {},
   "source": [
    "#Time series data analysis :\n",
    "#Goal : analysing inflation over the decades, convert data to fit all the years in a single col\n",
    "#i.e. change data from wide format to long format : such that col : Country , Year and Inflation are Included\n",
    "#melting : wide to long: "
   ]
  },
  {
   "cell_type": "code",
   "execution_count": 85,
   "id": "5dc0333d",
   "metadata": {},
   "outputs": [],
   "source": [
    "year_col = [str(year) for year in range(1970, 2024)] #2024 not included\n",
    "col_in_use = [\"Country\"] + year_col #created a list \n",
    "\n",
    "analysis_col = proj_data[col_in_use]\n",
    "projdata_long = analysis_col.melt(id_vars=[\"Country\"], var_name=\"Year\", value_name=\"hcpia_Inflation\")\n",
    "#to ensure proper numerical formatting\n",
    "projdata_long['Year'] = projdata_long['Year'].astype(int)"
   ]
  },
  {
   "cell_type": "code",
   "execution_count": 86,
   "id": "9f3a00a6",
   "metadata": {},
   "outputs": [
    {
     "name": "stdout",
     "output_type": "stream",
     "text": [
      "\n",
      "        Country  Year  hcpia_Inflation\n",
      "0  Afghanistan  1970            25.51\n",
      "1      Albania  1970            25.51\n",
      "2      Algeria  1970             6.60\n",
      "\n",
      "                   Country  Year  hcpia_Inflation\n",
      "11060          Uzbekistan  2023         9.951000\n",
      "11061             Vanuatu  2023        13.002878\n",
      "11062       Venezuela, RB  2023       337.458000\n",
      "11063             Vietnam  2023         3.252893\n",
      "11064  West Bank and Gaza  2023         5.871102\n",
      "11065         Yemen, Rep.  2023        -1.225000\n",
      "11066              Zambia  2023        10.953000\n",
      "11067            Zimbabwe  2023       105.401982\n",
      "11068             unknown  2023       105.401982\n",
      "11069             unknown  2023       105.401982\n",
      "\n",
      " 11070\n"
     ]
    }
   ],
   "source": [
    "print('\\n', projdata_long.head(3))\n",
    "print('\\n', projdata_long.tail(10))\n",
    "print(f\"\\n {len(projdata_long)}\")"
   ]
  },
  {
   "cell_type": "code",
   "execution_count": 87,
   "id": "66a8ab6b",
   "metadata": {},
   "outputs": [
    {
     "name": "stdout",
     "output_type": "stream",
     "text": [
      "<class 'pandas.core.frame.DataFrame'>\n",
      "RangeIndex: 11070 entries, 0 to 11069\n",
      "Data columns (total 3 columns):\n",
      " #   Column           Non-Null Count  Dtype  \n",
      "---  ------           --------------  -----  \n",
      " 0   Country          11070 non-null  object \n",
      " 1   Year             11070 non-null  int64  \n",
      " 2   hcpia_Inflation  11070 non-null  float64\n",
      "dtypes: float64(1), int64(1), object(1)\n",
      "memory usage: 259.6+ KB\n",
      "\n",
      "\n",
      " None\n"
     ]
    }
   ],
   "source": [
    "print('\\n\\n', projdata_long.info())"
   ]
  },
  {
   "cell_type": "code",
   "execution_count": 88,
   "id": "bda2eba4",
   "metadata": {},
   "outputs": [
    {
     "name": "stdout",
     "output_type": "stream",
     "text": [
      "\n",
      " \n",
      " Data description : \n",
      "                Year  hcpia_Inflation\n",
      "count  11070.000000     11070.000000\n",
      "mean    1996.500000        46.394602\n",
      "std       15.586488       780.060782\n",
      "min     1970.000000       -72.728996\n",
      "25%     1983.000000         2.346427\n",
      "50%     1996.500000         5.780000\n",
      "75%     2010.000000        12.296500\n",
      "max     2023.000000     65374.080000 \n",
      "\n"
     ]
    }
   ],
   "source": [
    "print(f\"\\n \\n Data description : \\n {projdata_long.describe()} \\n\")"
   ]
  },
  {
   "cell_type": "code",
   "execution_count": 89,
   "id": "f7cde659",
   "metadata": {},
   "outputs": [
    {
     "name": "stdout",
     "output_type": "stream",
     "text": [
      "\n",
      " \n",
      " Inflation data contained is for years:  1970 to 2023 \n",
      "\n"
     ]
    }
   ],
   "source": [
    "print(f\"\\n \\n Inflation data contained is for years:  {projdata_long['Year'].min()} to {projdata_long['Year'].max()} \\n\")"
   ]
  },
  {
   "cell_type": "markdown",
   "id": "8a8c5de8",
   "metadata": {},
   "source": [
    "### Inflation Trends Over Time"
   ]
  },
  {
   "cell_type": "code",
   "execution_count": 90,
   "id": "b818fe3e",
   "metadata": {},
   "outputs": [
    {
     "name": "stdout",
     "output_type": "stream",
     "text": [
      "\n",
      " Inflation Trends Over Time \n",
      " \n",
      "Global Average Inflation per year : \n",
      " Year\n",
      "1970      6.098704\n",
      "1971      6.700820\n",
      "1972      8.513989\n",
      "1973     15.701141\n",
      "1974     22.426634\n",
      "1975     19.500465\n",
      "1976     19.156713\n",
      "1977     17.550259\n",
      "1978     14.934650\n",
      "1979     17.364733\n",
      "1980     21.950192\n",
      "1981     18.928622\n",
      "1982     20.848737\n",
      "1983     26.613476\n",
      "1984     41.196784\n",
      "1985    146.974660\n",
      "1986     29.091967\n",
      "1987     91.879395\n",
      "1988     60.024538\n",
      "1989    149.300687\n",
      "1990    140.850003\n",
      "1991     46.647601\n",
      "1992    121.532004\n",
      "1993    233.273238\n",
      "1994    360.371911\n",
      "1995     62.014633\n",
      "1996     52.260650\n",
      "1997     18.157054\n",
      "1998      8.934064\n",
      "1999     11.143906\n",
      "2000     11.731513\n",
      "2001      8.187643\n",
      "2002      5.836402\n",
      "2003      6.013114\n",
      "2004      7.044182\n",
      "2005      5.360193\n",
      "2006      6.310650\n",
      "2007      4.785417\n",
      "2008     12.198784\n",
      "2009      4.572890\n",
      "2010      4.373173\n",
      "2011      6.301704\n",
      "2012      5.643928\n",
      "2013      4.607088\n",
      "2014      3.983953\n",
      "2015      4.202230\n",
      "2016      6.890869\n",
      "2017      7.331936\n",
      "2018    323.413338\n",
      "2019    104.651808\n",
      "2020    107.105032\n",
      "2021     16.923136\n",
      "2022     14.231114\n",
      "2023     13.666205\n",
      "Name: hcpia_Inflation, dtype: float64\n"
     ]
    }
   ],
   "source": [
    "#2.\n",
    "print(\"\\n Inflation Trends Over Time \\n \")\n",
    "#print(projdata_long.sort_values(by='hcpia_inflation', ascending=False).head(10))\n",
    "\n",
    "Global_avg_inflation = projdata_long.groupby(\"Year\")[\"hcpia_Inflation\"].mean()\n",
    "#since we are plotting time series data next , reset_index() is not used after groupby \n",
    "# so we can avoid declaring the x index while plotting as 'Year' is the default index here now\n",
    "print(\"Global Average Inflation per year : \\n\",Global_avg_inflation)"
   ]
  },
  {
   "cell_type": "code",
   "execution_count": 91,
   "id": "9fb4a8fa",
   "metadata": {},
   "outputs": [
    {
     "name": "stdout",
     "output_type": "stream",
     "text": [
      "\n",
      " PLOTTING Global Inflation Trend: \n",
      "\n",
      "\n",
      " Plot info : x : global_avg_inflation.index : (year); y : Gloabal_avg_inflation.values : (avg_inflation_rate) \n",
      "\n"
     ]
    },
    {
     "data": {
      "image/png": "[encoded data removed]",
      "text/plain": [
       "<Figure size 1000x600 with 1 Axes>"
      ]
     },
     "metadata": {},
     "output_type": "display_data"
    }
   ],
   "source": [
    "print(\"\\n PLOTTING Global Inflation Trend: \\n\")\n",
    "\n",
    "plt.figure(figsize=(10,6))\n",
    "#x : global_avg_inflation.index : (year); y : Gloabal_avg_inflation.values : (avg_inflation_rate)\n",
    "print(\"\\n Plot info : x : global_avg_inflation.index : (year); y : Gloabal_avg_inflation.values : (avg_inflation_rate) \\n\")\n",
    "plt.plot(Global_avg_inflation,marker=\"o\",linestyle=\"-\",color=\"b\", label=\"Global avg inflation rate vs year\")\n",
    "plt.xlabel(\"Year\")\n",
    "plt.ylabel(\"Average Inflation Rate\")\n",
    "plt.title(\"Global Inflation Trend over time \\n\")\n",
    "plt.legend()\n",
    "plt.grid(True)\n",
    "plt.show()"
   ]
  },
  {
   "cell_type": "markdown",
   "id": "5bb652cd",
   "metadata": {},
   "source": [
    "### Finding the countries with highest and lowest avg inflation in 2023 "
   ]
  },
  {
   "cell_type": "code",
   "execution_count": 92,
   "id": "4cdb50a3",
   "metadata": {},
   "outputs": [
    {
     "name": "stdout",
     "output_type": "stream",
     "text": [
      "\n",
      " Finding the countries with highest and lowest inflation in 2023 : \n",
      "\n"
     ]
    }
   ],
   "source": [
    "#3.\n",
    "print(\"\\n Finding the countries with highest and lowest inflation in 2023 : \\n\")\n",
    "latest_year = projdata_long['Year'].max()\n",
    "\n",
    "highest_inflation = projdata_long[projdata_long['Year']== latest_year].nlargest(10, \"hcpia_Inflation\")\n",
    "lowest_inflation = projdata_long[projdata_long['Year']==latest_year].nsmallest(10, \"hcpia_Inflation\")"
   ]
  },
  {
   "cell_type": "code",
   "execution_count": 93,
   "id": "88ed10e6",
   "metadata": {},
   "outputs": [
    {
     "name": "stdout",
     "output_type": "stream",
     "text": [
      "\n",
      " Top 10 countries with the highest inflation rate in : 2023 \n",
      " \n"
     ]
    },
    {
     "data": {
      "image/png": "[encoded data removed]",
      "text/plain": [
       "<Figure size 1200x500 with 1 Axes>"
      ]
     },
     "metadata": {},
     "output_type": "display_data"
    }
   ],
   "source": [
    "#highest inflation rate\n",
    "print(f\"\\n Top 10 countries with the highest inflation rate in : {latest_year} \\n \")\n",
    "plt.figure(figsize=(12 , 5 ))\n",
    "sns.barplot(y=highest_inflation['Country'], x=highest_inflation['hcpia_Inflation'], palette='Reds_r',\n",
    "            hue=highest_inflation['Country'],legend=False)\n",
    "plt.xlabel(\"Inflation Rate\")\n",
    "plt.ylabel(\"Country\")\n",
    "plt.title(f\"Countries with the highest inflation rate in {latest_year}\")\n",
    "plt.show()"
   ]
  },
  {
   "cell_type": "code",
   "execution_count": 94,
   "id": "d06b240b",
   "metadata": {},
   "outputs": [
    {
     "name": "stdout",
     "output_type": "stream",
     "text": [
      "\n",
      " 10 countries with the lowest inflation rate in : 2023 \n",
      " \n"
     ]
    },
    {
     "data": {
      "image/png": "[encoded data removed]",
      "text/plain": [
       "<Figure size 1200x500 with 1 Axes>"
      ]
     },
     "metadata": {},
     "output_type": "display_data"
    }
   ],
   "source": [
    "#lowest inflation rate\n",
    "print(f\"\\n 10 countries with the lowest inflation rate in : {latest_year} \\n \")\n",
    "plt.figure(figsize=(12 , 5 ))\n",
    "sns.barplot(y=lowest_inflation['Country'], x=lowest_inflation['hcpia_Inflation'],hue=lowest_inflation['Country'], palette='Blues_r',\n",
    "            legend = False)\n",
    "plt.xlabel(\"Inflation Rate %\")\n",
    "plt.ylabel(\"Country\")\n",
    "plt.title(f\"Countries with the lowest inflation rate in {latest_year}\")\n",
    "plt.show()"
   ]
  },
  {
   "cell_type": "markdown",
   "id": "3176ff9c",
   "metadata": {},
   "source": [
    "### aiming for a dynamic, year-wise comparison of the top and least inflating countries to see trends over time. \n"
   ]
  },
  {
   "cell_type": "code",
   "execution_count": 95,
   "id": "1b0cab66",
   "metadata": {},
   "outputs": [
    {
     "name": "stdout",
     "output_type": "stream",
     "text": [
      "\n",
      " Determining Highest and lowest inflation countries per year  \n",
      "\n"
     ]
    }
   ],
   "source": [
    "print(\"\\n Determining Highest and lowest inflation countries per year  \\n\")\n",
    "#for small data : alt way : top_countries = \n",
    "# projdata_long.groupby('Year').apply(lambda x: x.nlargest(10, 'hcpia_Inflation')).reset_index(drop=True)\n",
    "\n",
    "#faster for large data : sorting , group_by : head(10)\n",
    "#Sort by year and Inflation descending \n",
    "#top_countries = > projdata_long.groupby('Year') -> nlargest(5, 'hcpia_Inflation')\n",
    "#bottom_countries = projdata_long.groupby(\"Year\") -> nsmallest(5, 'hcpia_Inflation')\n",
    "\n",
    "#using sort_values and then slicing for faster processing with a bigger dataset here\n",
    "highest_per_year = ( projdata_long.sort_values(['Year','hcpia_Inflation'],ascending=[True,False]) ).groupby('Year').head(1) \n",
    "#df now contains top 5 inflaction rate countries for each year and that year as index\n",
    "\n",
    "lowest_per_year = (projdata_long.sort_values(['Year', 'hcpia_Inflation'],ascending=[True, True])).groupby('Year').head(1)\n",
    "#df now contains coutries with the lowest inflation for every year, using year as index    \n",
    "\n",
    "#creating a custom color palette for each country: \n",
    "# unq_country = highest_per_year[\"Country\"].nunique()\n",
    "# palette_c = sns.color_palette(\"hls\",unq_country) "
   ]
  },
  {
   "cell_type": "code",
   "execution_count": 96,
   "id": "613f7d99",
   "metadata": {},
   "outputs": [
    {
     "name": "stdout",
     "output_type": "stream",
     "text": [
      "Plotting Countries with the highest inflation rate per year : \n",
      "\n"
     ]
    },
    {
     "data": {
      "image/png": "[encoded data removed]",
      "text/plain": [
       "<Figure size 1400x800 with 1 Axes>"
      ]
     },
     "metadata": {},
     "output_type": "display_data"
    }
   ],
   "source": [
    "print(\"Plotting Countries with the highest inflation rate per year : \\n\")\n",
    "plt.figure(figsize=(14 , 8))\n",
    "sns.lineplot(data=highest_per_year,x='Year',y='hcpia_Inflation',hue='Country', marker='o')\n",
    "plt.xlabel(\"Year\")\n",
    "plt.ylabel(\"Inflation Rate %\")\n",
    "plt.title(\"Top Inflating countries over time\")\n",
    "plt.legend()\n",
    "# plt.legend(bbox_to_anchor=(1.05, 1), loc='upper left')  # Puts legend outside\n",
    "# plt.tight_layout()\n",
    "plt.grid(True)\n",
    "plt.show()"
   ]
  },
  {
   "cell_type": "code",
   "execution_count": 97,
   "id": "072465ef",
   "metadata": {},
   "outputs": [
    {
     "name": "stdout",
     "output_type": "stream",
     "text": [
      "\n",
      " Plotting countries with the lowest inflation rate per year : \n",
      "\n"
     ]
    },
    {
     "data": {
      "image/png": "[encoded data removed]",
      "text/plain": [
       "<Figure size 1400x800 with 1 Axes>"
      ]
     },
     "metadata": {},
     "output_type": "display_data"
    }
   ],
   "source": [
    "print(\"\\n Plotting countries with the lowest inflation rate per year : \\n\")\n",
    "plt.figure(figsize=(14,8))\n",
    "sns.lineplot(data=lowest_per_year,x='Year',y='hcpia_Inflation',hue='Country',marker='o',linestyle='-')\n",
    "plt.xlabel('Year')\n",
    "plt.ylabel(\"Inflation rate %\")\n",
    "plt.title(\"Least Inflating countries over time\")\n",
    "plt.legend(bbox_to_anchor=(1.05, 1), loc='upper left')\n",
    "plt.tight_layout ()\n",
    "#plt.legend()\n",
    "plt.grid(True)\n",
    "plt.show()"
   ]
  },
  {
   "cell_type": "markdown",
   "id": "158bf9ce",
   "metadata": {},
   "source": [
    "### Plotting World Inflation Heatmap"
   ]
  },
  {
   "cell_type": "code",
   "execution_count": 98,
   "id": "6accfb5e",
   "metadata": {},
   "outputs": [
    {
     "name": "stdout",
     "output_type": "stream",
     "text": [
      "Plotting World Inflation Heatmap: \n",
      " \n"
     ]
    },
    {
     "data": {
      "application/vnd.plotly.v1+json": {
       "config": {
        "plotlyServerURL": "https://plot.ly"
       },
       "data": [
        {
         "coloraxis": "coloraxis",
         "geo": "geo",
         "hovertemplate": "<b>%{hovertext}</b><br><br>Country=%{location}<br>hcpia_Inflation=%{z}<extra></extra>",
         "hovertext": [
          "Afghanistan",
          "Albania",
          "Algeria",
          "Angola",
          "Antigua and Barbuda",
          "Argentina",
          "Armenia",
          "Aruba",
          "Australia",
          "Austria",
          "Azerbaijan",
          "Bahamas, The",
          "Bahrain",
          "Bangladesh",
          "Barbados",
          "Belarus",
          "Belgium",
          "Belize",
          "Benin",
          "Bhutan",
          "Bolivia",
          "Bosnia and Herzegovina",
          "Botswana",
          "Brazil",
          "British Virgin Islands",
          "Brunei Darussalam",
          "Bulgaria",
          "Burkina Faso",
          "Burundi",
          "Cabo Verde",
          "Cambodia",
          "Cameroon",
          "Canada",
          "Cayman Islands",
          "Central African Republic",
          "Chad",
          "Chile",
          "China",
          "Colombia",
          "Comoros",
          "Congo, Dem. Rep.",
          "Congo, Rep.",
          "Costa Rica",
          "Côte d'Ivoire",
          "Croatia",
          "Curacao",
          "Cyprus",
          "Czech Republic",
          "Denmark",
          "Djibouti",
          "Dominica",
          "Dominican Republic",
          "Ecuador",
          "Egypt, Arab Rep.",
          "El Salvador",
          "Equatorial Guinea",
          "Eritrea",
          "Estonia",
          "Ethiopia",
          "Fiji",
          "Finland",
          "France",
          "Gabon",
          "Gambia, The",
          "Georgia",
          "Germany",
          "Ghana",
          "Greece",
          "Grenada",
          "Guatemala",
          "Guinea",
          "Guinea-Bissau",
          "Guyana",
          "Haiti",
          "Honduras",
          "Hong Kong SAR, China",
          "Hungary",
          "Iceland",
          "India",
          "Indonesia",
          "Iran, Islamic Rep.",
          "Iraq",
          "Ireland",
          "Israel",
          "Italy",
          "Jamaica",
          "Japan",
          "Jordan",
          "Kazakhstan",
          "Kenya",
          "Kiribati",
          "Korea, Rep.",
          "Kosovo",
          "Kuwait",
          "Kyrgyz Republic",
          "Lao PDR",
          "Latvia",
          "Lebanon",
          "Lesotho",
          "Liberia",
          "Libya",
          "Liechtenstein",
          "Lithuania",
          "Luxembourg",
          "Macao SAR, China",
          "Macedonia, FYR",
          "Madagascar",
          "Malawi",
          "Malaysia",
          "Maldives",
          "Mali",
          "Malta",
          "Marshall Islands",
          "Martinique",
          "Mauritania",
          "Mauritius",
          "Mexico",
          "Micronesia, Fed. Sts.",
          "Moldova",
          "Mongolia",
          "Montenegro",
          "Montserratit",
          "Morocco",
          "Mozambique",
          "Myanmar",
          "Namibia",
          "Nauru",
          "Nepal",
          "Netherlands",
          "New Caledonia",
          "New Zealand",
          "Nicaragua",
          "Niger",
          "Nigeria",
          "Niue",
          "Norway",
          "Oman",
          "Pakistan",
          "Palau",
          "Panama",
          "Papua New Guinea",
          "Paraguay",
          "Peru",
          "Philippines",
          "Poland",
          "Portugal",
          "Puerto Rico",
          "Qatar",
          "Romania",
          "Russian Federation",
          "Rwanda",
          "Saint Helena",
          "Samoa",
          "San Marino",
          "São Tomé and Principe",
          "Saudi Arabia",
          "Senegal",
          "Serbia",
          "Seychelles",
          "Sierra Leone",
          "Singapore",
          "Slovak Republic",
          "Slovenia",
          "Solomon Islands",
          "South Africa",
          "South Sudan",
          "Spain",
          "Sri Lanka",
          "St. Kitts and Nevis",
          "St. Lucia",
          "St. Vincent and the Grenadines",
          "Sudan",
          "Suriname",
          "Swaziland",
          "Sweden",
          "Switzerland",
          "Syrian Arab Republic",
          "Tajikistan",
          "Tanzania",
          "Thailand",
          "Timor-Leste",
          "Togo",
          "Tonga",
          "Trinidad and Tobago",
          "Tunisia",
          "Turkey",
          "Turkmenistan",
          "Turks and Caicos Islands",
          "Tuvalu",
          "Uganda",
          "Ukraine",
          "United Arab Emirates",
          "United Kingdom",
          "United States",
          "Uruguay",
          "Uzbekistan",
          "Vanuatu",
          "Venezuela, RB",
          "Vietnam",
          "West Bank and Gaza",
          "Yemen, Rep.",
          "Zambia",
          "Zimbabwe",
          "unknown",
          "unknown"
         ],
         "locationmode": "country names",
         "locations": [
          "Afghanistan",
          "Albania",
          "Algeria",
          "Angola",
          "Antigua and Barbuda",
          "Argentina",
          "Armenia",
          "Aruba",
          "Australia",
          "Austria",
          "Azerbaijan",
          "Bahamas, The",
          "Bahrain",
          "Bangladesh",
          "Barbados",
          "Belarus",
          "Belgium",
          "Belize",
          "Benin",
          "Bhutan",
          "Bolivia",
          "Bosnia and Herzegovina",
          "Botswana",
          "Brazil",
          "British Virgin Islands",
          "Brunei Darussalam",
          "Bulgaria",
          "Burkina Faso",
          "Burundi",
          "Cabo Verde",
          "Cambodia",
          "Cameroon",
          "Canada",
          "Cayman Islands",
          "Central African Republic",
          "Chad",
          "Chile",
          "China",
          "Colombia",
          "Comoros",
          "Congo, Dem. Rep.",
          "Congo, Rep.",
          "Costa Rica",
          "Côte d'Ivoire",
          "Croatia",
          "Curacao",
          "Cyprus",
          "Czech Republic",
          "Denmark",
          "Djibouti",
          "Dominica",
          "Dominican Republic",
          "Ecuador",
          "Egypt, Arab Rep.",
          "El Salvador",
          "Equatorial Guinea",
          "Eritrea",
          "Estonia",
          "Ethiopia",
          "Fiji",
          "Finland",
          "France",
          "Gabon",
          "Gambia, The",
          "Georgia",
          "Germany",
          "Ghana",
          "Greece",
          "Grenada",
          "Guatemala",
          "Guinea",
          "Guinea-Bissau",
          "Guyana",
          "Haiti",
          "Honduras",
          "Hong Kong SAR, China",
          "Hungary",
          "Iceland",
          "India",
          "Indonesia",
          "Iran, Islamic Rep.",
          "Iraq",
          "Ireland",
          "Israel",
          "Italy",
          "Jamaica",
          "Japan",
          "Jordan",
          "Kazakhstan",
          "Kenya",
          "Kiribati",
          "Korea, Rep.",
          "Kosovo",
          "Kuwait",
          "Kyrgyz Republic",
          "Lao PDR",
          "Latvia",
          "Lebanon",
          "Lesotho",
          "Liberia",
          "Libya",
          "Liechtenstein",
          "Lithuania",
          "Luxembourg",
          "Macao SAR, China",
          "Macedonia, FYR",
          "Madagascar",
          "Malawi",
          "Malaysia",
          "Maldives",
          "Mali",
          "Malta",
          "Marshall Islands",
          "Martinique",
          "Mauritania",
          "Mauritius",
          "Mexico",
          "Micronesia, Fed. Sts.",
          "Moldova",
          "Mongolia",
          "Montenegro",
          "Montserratit",
          "Morocco",
          "Mozambique",
          "Myanmar",
          "Namibia",
          "Nauru",
          "Nepal",
          "Netherlands",
          "New Caledonia",
          "New Zealand",
          "Nicaragua",
          "Niger",
          "Nigeria",
          "Niue",
          "Norway",
          "Oman",
          "Pakistan",
          "Palau",
          "Panama",
          "Papua New Guinea",
          "Paraguay",
          "Peru",
          "Philippines",
          "Poland",
          "Portugal",
          "Puerto Rico",
          "Qatar",
          "Romania",
          "Russian Federation",
          "Rwanda",
          "Saint Helena",
          "Samoa",
          "San Marino",
          "São Tomé and Principe",
          "Saudi Arabia",
          "Senegal",
          "Serbia",
          "Seychelles",
          "Sierra Leone",
          "Singapore",
          "Slovak Republic",
          "Slovenia",
          "Solomon Islands",
          "South Africa",
          "South Sudan",
          "Spain",
          "Sri Lanka",
          "St. Kitts and Nevis",
          "St. Lucia",
          "St. Vincent and the Grenadines",
          "Sudan",
          "Suriname",
          "Swaziland",
          "Sweden",
          "Switzerland",
          "Syrian Arab Republic",
          "Tajikistan",
          "Tanzania",
          "Thailand",
          "Timor-Leste",
          "Togo",
          "Tonga",
          "Trinidad and Tobago",
          "Tunisia",
          "Turkey",
          "Turkmenistan",
          "Turks and Caicos Islands",
          "Tuvalu",
          "Uganda",
          "Ukraine",
          "United Arab Emirates",
          "United Kingdom",
          "United States",
          "Uruguay",
          "Uzbekistan",
          "Vanuatu",
          "Venezuela, RB",
          "Vietnam",
          "West Bank and Gaza",
          "Yemen, Rep.",
          "Zambia",
          "Zimbabwe",
          "unknown",
          "unknown"
         ],
         "name": "",
         "type": "choropleth",
         "z": {
          "bdata": "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",
          "dtype": "f8"
         }
        }
       ],
       "layout": {
        "coloraxis": {
         "colorbar": {
          "title": {
           "text": "hcpia_Inflation"
          }
         },
         "colorscale": [
          [
           0,
           "#0d0887"
          ],
          [
           0.1111111111111111,
           "#46039f"
          ],
          [
           0.2222222222222222,
           "#7201a8"
          ],
          [
           0.3333333333333333,
           "#9c179e"
          ],
          [
           0.4444444444444444,
           "#bd3786"
          ],
          [
           0.5555555555555556,
           "#d8576b"
          ],
          [
           0.6666666666666666,
           "#ed7953"
          ],
          [
           0.7777777777777778,
           "#fb9f3a"
          ],
          [
           0.8888888888888888,
           "#fdca26"
          ],
          [
           1,
           "#f0f921"
          ]
         ]
        },
        "geo": {
         "center": {},
         "domain": {
          "x": [
           0,
           1
          ],
          "y": [
           0,
           1
          ]
         }
        },
        "legend": {
         "tracegroupgap": 0
        },
        "template": {
         "data": {
          "bar": [
           {
            "error_x": {
             "color": "#2a3f5f"
            },
            "error_y": {
             "color": "#2a3f5f"
            },
            "marker": {
             "line": {
              "color": "#E5ECF6",
              "width": 0.5
             },
             "pattern": {
              "fillmode": "overlay",
              "size": 10,
              "solidity": 0.2
             }
            },
            "type": "bar"
           }
          ],
          "barpolar": [
           {
            "marker": {
             "line": {
              "color": "#E5ECF6",
              "width": 0.5
             },
             "pattern": {
              "fillmode": "overlay",
              "size": 10,
              "solidity": 0.2
             }
            },
            "type": "barpolar"
           }
          ],
          "carpet": [
           {
            "aaxis": {
             "endlinecolor": "#2a3f5f",
             "gridcolor": "white",
             "linecolor": "white",
             "minorgridcolor": "white",
             "startlinecolor": "#2a3f5f"
            },
            "baxis": {
             "endlinecolor": "#2a3f5f",
             "gridcolor": "white",
             "linecolor": "white",
             "minorgridcolor": "white",
             "startlinecolor": "#2a3f5f"
            },
            "type": "carpet"
           }
          ],
          "choropleth": [
           {
            "colorbar": {
             "outlinewidth": 0,
             "ticks": ""
            },
            "type": "choropleth"
           }
          ],
          "contour": [
           {
            "colorbar": {
             "outlinewidth": 0,
             "ticks": ""
            },
            "colorscale": [
             [
              0,
              "#0d0887"
             ],
             [
              0.1111111111111111,
              "#46039f"
             ],
             [
              0.2222222222222222,
              "#7201a8"
             ],
             [
              0.3333333333333333,
              "#9c179e"
             ],
             [
              0.4444444444444444,
              "#bd3786"
             ],
             [
              0.5555555555555556,
              "#d8576b"
             ],
             [
              0.6666666666666666,
              "#ed7953"
             ],
             [
              0.7777777777777778,
              "#fb9f3a"
             ],
             [
              0.8888888888888888,
              "#fdca26"
             ],
             [
              1,
              "#f0f921"
             ]
            ],
            "type": "contour"
           }
          ],
          "contourcarpet": [
           {
            "colorbar": {
             "outlinewidth": 0,
             "ticks": ""
            },
            "type": "contourcarpet"
           }
          ],
          "heatmap": [
           {
            "colorbar": {
             "outlinewidth": 0,
             "ticks": ""
            },
            "colorscale": [
             [
              0,
              "#0d0887"
             ],
             [
              0.1111111111111111,
              "#46039f"
             ],
             [
              0.2222222222222222,
              "#7201a8"
             ],
             [
              0.3333333333333333,
              "#9c179e"
             ],
             [
              0.4444444444444444,
              "#bd3786"
             ],
             [
              0.5555555555555556,
              "#d8576b"
             ],
             [
              0.6666666666666666,
              "#ed7953"
             ],
             [
              0.7777777777777778,
              "#fb9f3a"
             ],
             [
              0.8888888888888888,
              "#fdca26"
             ],
             [
              1,
              "#f0f921"
             ]
            ],
            "type": "heatmap"
           }
          ],
          "histogram": [
           {
            "marker": {
             "pattern": {
              "fillmode": "overlay",
              "size": 10,
              "solidity": 0.2
             }
            },
            "type": "histogram"
           }
          ],
          "histogram2d": [
           {
            "colorbar": {
             "outlinewidth": 0,
             "ticks": ""
            },
            "colorscale": [
             [
              0,
              "#0d0887"
             ],
             [
              0.1111111111111111,
              "#46039f"
             ],
             [
              0.2222222222222222,
              "#7201a8"
             ],
             [
              0.3333333333333333,
              "#9c179e"
             ],
             [
              0.4444444444444444,
              "#bd3786"
             ],
             [
              0.5555555555555556,
              "#d8576b"
             ],
             [
              0.6666666666666666,
              "#ed7953"
             ],
             [
              0.7777777777777778,
              "#fb9f3a"
             ],
             [
              0.8888888888888888,
              "#fdca26"
             ],
             [
              1,
              "#f0f921"
             ]
            ],
            "type": "histogram2d"
           }
          ],
          "histogram2dcontour": [
           {
            "colorbar": {
             "outlinewidth": 0,
             "ticks": ""
            },
            "colorscale": [
             [
              0,
              "#0d0887"
             ],
             [
              0.1111111111111111,
              "#46039f"
             ],
             [
              0.2222222222222222,
              "#7201a8"
             ],
             [
              0.3333333333333333,
              "#9c179e"
             ],
             [
              0.4444444444444444,
              "#bd3786"
             ],
             [
              0.5555555555555556,
              "#d8576b"
             ],
             [
              0.6666666666666666,
              "#ed7953"
             ],
             [
              0.7777777777777778,
              "#fb9f3a"
             ],
             [
              0.8888888888888888,
              "#fdca26"
             ],
             [
              1,
              "#f0f921"
             ]
            ],
            "type": "histogram2dcontour"
           }
          ],
          "mesh3d": [
           {
            "colorbar": {
             "outlinewidth": 0,
             "ticks": ""
            },
            "type": "mesh3d"
           }
          ],
          "parcoords": [
           {
            "line": {
             "colorbar": {
              "outlinewidth": 0,
              "ticks": ""
             }
            },
            "type": "parcoords"
           }
          ],
          "pie": [
           {
            "automargin": true,
            "type": "pie"
           }
          ],
          "scatter": [
           {
            "fillpattern": {
             "fillmode": "overlay",
             "size": 10,
             "solidity": 0.2
            },
            "type": "scatter"
           }
          ],
          "scatter3d": [
           {
            "line": {
             "colorbar": {
              "outlinewidth": 0,
              "ticks": ""
             }
            },
            "marker": {
             "colorbar": {
              "outlinewidth": 0,
              "ticks": ""
             }
            },
            "type": "scatter3d"
           }
          ],
          "scattercarpet": [
           {
            "marker": {
             "colorbar": {
              "outlinewidth": 0,
              "ticks": ""
             }
            },
            "type": "scattercarpet"
           }
          ],
          "scattergeo": [
           {
            "marker": {
             "colorbar": {
              "outlinewidth": 0,
              "ticks": ""
             }
            },
            "type": "scattergeo"
           }
          ],
          "scattergl": [
           {
            "marker": {
             "colorbar": {
              "outlinewidth": 0,
              "ticks": ""
             }
            },
            "type": "scattergl"
           }
          ],
          "scattermap": [
           {
            "marker": {
             "colorbar": {
              "outlinewidth": 0,
              "ticks": ""
             }
            },
            "type": "scattermap"
           }
          ],
          "scattermapbox": [
           {
            "marker": {
             "colorbar": {
              "outlinewidth": 0,
              "ticks": ""
             }
            },
            "type": "scattermapbox"
           }
          ],
          "scatterpolar": [
           {
            "marker": {
             "colorbar": {
              "outlinewidth": 0,
              "ticks": ""
             }
            },
            "type": "scatterpolar"
           }
          ],
          "scatterpolargl": [
           {
            "marker": {
             "colorbar": {
              "outlinewidth": 0,
              "ticks": ""
             }
            },
            "type": "scatterpolargl"
           }
          ],
          "scatterternary": [
           {
            "marker": {
             "colorbar": {
              "outlinewidth": 0,
              "ticks": ""
             }
            },
            "type": "scatterternary"
           }
          ],
          "surface": [
           {
            "colorbar": {
             "outlinewidth": 0,
             "ticks": ""
            },
            "colorscale": [
             [
              0,
              "#0d0887"
             ],
             [
              0.1111111111111111,
              "#46039f"
             ],
             [
              0.2222222222222222,
              "#7201a8"
             ],
             [
              0.3333333333333333,
              "#9c179e"
             ],
             [
              0.4444444444444444,
              "#bd3786"
             ],
             [
              0.5555555555555556,
              "#d8576b"
             ],
             [
              0.6666666666666666,
              "#ed7953"
             ],
             [
              0.7777777777777778,
              "#fb9f3a"
             ],
             [
              0.8888888888888888,
              "#fdca26"
             ],
             [
              1,
              "#f0f921"
             ]
            ],
            "type": "surface"
           }
          ],
          "table": [
           {
            "cells": {
             "fill": {
              "color": "#EBF0F8"
             },
             "line": {
              "color": "white"
             }
            },
            "header": {
             "fill": {
              "color": "#C8D4E3"
             },
             "line": {
              "color": "white"
             }
            },
            "type": "table"
           }
          ]
         },
         "layout": {
          "annotationdefaults": {
           "arrowcolor": "#2a3f5f",
           "arrowhead": 0,
           "arrowwidth": 1
          },
          "autotypenumbers": "strict",
          "coloraxis": {
           "colorbar": {
            "outlinewidth": 0,
            "ticks": ""
           }
          },
          "colorscale": {
           "diverging": [
            [
             0,
             "#8e0152"
            ],
            [
             0.1,
             "#c51b7d"
            ],
            [
             0.2,
             "#de77ae"
            ],
            [
             0.3,
             "#f1b6da"
            ],
            [
             0.4,
             "#fde0ef"
            ],
            [
             0.5,
             "#f7f7f7"
            ],
            [
             0.6,
             "#e6f5d0"
            ],
            [
             0.7,
             "#b8e186"
            ],
            [
             0.8,
             "#7fbc41"
            ],
            [
             0.9,
             "#4d9221"
            ],
            [
             1,
             "#276419"
            ]
           ],
           "sequential": [
            [
             0,
             "#0d0887"
            ],
            [
             0.1111111111111111,
             "#46039f"
            ],
            [
             0.2222222222222222,
             "#7201a8"
            ],
            [
             0.3333333333333333,
             "#9c179e"
            ],
            [
             0.4444444444444444,
             "#bd3786"
            ],
            [
             0.5555555555555556,
             "#d8576b"
            ],
            [
             0.6666666666666666,
             "#ed7953"
            ],
            [
             0.7777777777777778,
             "#fb9f3a"
            ],
            [
             0.8888888888888888,
             "#fdca26"
            ],
            [
             1,
             "#f0f921"
            ]
           ],
           "sequentialminus": [
            [
             0,
             "#0d0887"
            ],
            [
             0.1111111111111111,
             "#46039f"
            ],
            [
             0.2222222222222222,
             "#7201a8"
            ],
            [
             0.3333333333333333,
             "#9c179e"
            ],
            [
             0.4444444444444444,
             "#bd3786"
            ],
            [
             0.5555555555555556,
             "#d8576b"
            ],
            [
             0.6666666666666666,
             "#ed7953"
            ],
            [
             0.7777777777777778,
             "#fb9f3a"
            ],
            [
             0.8888888888888888,
             "#fdca26"
            ],
            [
             1,
             "#f0f921"
            ]
           ]
          },
          "colorway": [
           "#636efa",
           "#EF553B",
           "#00cc96",
           "#ab63fa",
           "#FFA15A",
           "#19d3f3",
           "#FF6692",
           "#B6E880",
           "#FF97FF",
           "#FECB52"
          ],
          "font": {
           "color": "#2a3f5f"
          },
          "geo": {
           "bgcolor": "white",
           "lakecolor": "white",
           "landcolor": "#E5ECF6",
           "showlakes": true,
           "showland": true,
           "subunitcolor": "white"
          },
          "hoverlabel": {
           "align": "left"
          },
          "hovermode": "closest",
          "mapbox": {
           "style": "light"
          },
          "paper_bgcolor": "white",
          "plot_bgcolor": "#E5ECF6",
          "polar": {
           "angularaxis": {
            "gridcolor": "white",
            "linecolor": "white",
            "ticks": ""
           },
           "bgcolor": "#E5ECF6",
           "radialaxis": {
            "gridcolor": "white",
            "linecolor": "white",
            "ticks": ""
           }
          },
          "scene": {
           "xaxis": {
            "backgroundcolor": "#E5ECF6",
            "gridcolor": "white",
            "gridwidth": 2,
            "linecolor": "white",
            "showbackground": true,
            "ticks": "",
            "zerolinecolor": "white"
           },
           "yaxis": {
            "backgroundcolor": "#E5ECF6",
            "gridcolor": "white",
            "gridwidth": 2,
            "linecolor": "white",
            "showbackground": true,
            "ticks": "",
            "zerolinecolor": "white"
           },
           "zaxis": {
            "backgroundcolor": "#E5ECF6",
            "gridcolor": "white",
            "gridwidth": 2,
            "linecolor": "white",
            "showbackground": true,
            "ticks": "",
            "zerolinecolor": "white"
           }
          },
          "shapedefaults": {
           "line": {
            "color": "#2a3f5f"
           }
          },
          "ternary": {
           "aaxis": {
            "gridcolor": "white",
            "linecolor": "white",
            "ticks": ""
           },
           "baxis": {
            "gridcolor": "white",
            "linecolor": "white",
            "ticks": ""
           },
           "bgcolor": "#E5ECF6",
           "caxis": {
            "gridcolor": "white",
            "linecolor": "white",
            "ticks": ""
           }
          },
          "title": {
           "x": 0.05
          },
          "xaxis": {
           "automargin": true,
           "gridcolor": "white",
           "linecolor": "white",
           "ticks": "",
           "title": {
            "standoff": 15
           },
           "zerolinecolor": "white",
           "zerolinewidth": 2
          },
          "yaxis": {
           "automargin": true,
           "gridcolor": "white",
           "linecolor": "white",
           "ticks": "",
           "title": {
            "standoff": 15
           },
           "zerolinecolor": "white",
           "zerolinewidth": 2
          }
         }
        },
        "title": {
         "text": "2023 Global Inflation Heatmap"
        }
       }
      }
     },
     "metadata": {},
     "output_type": "display_data"
    }
   ],
   "source": [
    "#4.\n",
    "print(\"Plotting World Inflation Heatmap: \\n \")\n",
    "\n",
    "#creating a choropleth map for inflation rates\n",
    "fig = px.choropleth ( projdata_long[projdata_long['Year']==latest_year], locations='Country', locationmode = 'country names', color = 'hcpia_Inflation', hover_name = 'Country',title = f'{latest_year} Global Inflation Heatmap', color_continuous_scale = px.colors.sequential.Plasma )\n",
    "\n",
    "fig.show()"
   ]
  },
  {
   "cell_type": "markdown",
   "id": "6ceca882",
   "metadata": {},
   "source": [
    "### Inflation Distribution Analysis : "
   ]
  },
  {
   "cell_type": "code",
   "execution_count": 99,
   "id": "186c09b6",
   "metadata": {},
   "outputs": [
    {
     "name": "stdout",
     "output_type": "stream",
     "text": [
      "Inflation Distribution Analysis : \n",
      "Plotting Inflation distribution rate using a histogram  \n",
      "\n"
     ]
    },
    {
     "data": {
      "image/png": "[encoded data removed]",
      "text/plain": [
       "<Figure size 1200x700 with 1 Axes>"
      ]
     },
     "metadata": {},
     "output_type": "display_data"
    }
   ],
   "source": [
    "#5.\n",
    "print(\"Inflation Distribution Analysis : \")\n",
    "#Histogram to see inflation distribution\n",
    "print(\"Plotting Inflation distribution rate using a histogram  \\n\")\n",
    "\n",
    "plt.figure(figsize=(12,7))\n",
    "sns.histplot(projdata_long['hcpia_Inflation'],bins=30,kde=True,color='purple')\n",
    "plt.xlabel(\"Inflation Rate %\")\n",
    "plt.ylabel(\"Frequency\")\n",
    "plt.title(\"Inflation Rate distribution\")\n",
    "plt.show()\n"
   ]
  },
  {
   "cell_type": "code",
   "execution_count": 100,
   "id": "6b85e2fd",
   "metadata": {},
   "outputs": [
    {
     "name": "stdout",
     "output_type": "stream",
     "text": [
      "Plotting a boxplot to identify the outliers \n",
      "\n"
     ]
    },
    {
     "data": {
      "image/png": "[encoded data removed]",
      "text/plain": [
       "<Figure size 1200x700 with 1 Axes>"
      ]
     },
     "metadata": {},
     "output_type": "display_data"
    }
   ],
   "source": [
    "print(\"Plotting a boxplot to identify the outliers \\n\")\n",
    "\n",
    "plt.figure(figsize=(12,7))\n",
    "sns.boxplot(x=projdata_long['hcpia_Inflation'],color='orange')\n",
    "plt.title('Boxplot of Inflation Rates (Detecting outliers)')\n",
    "plt.show()"
   ]
  },
  {
   "cell_type": "markdown",
   "id": "2d8cc6de",
   "metadata": {},
   "source": [
    "### EDA phase Completed "
   ]
  },
  {
   "cell_type": "markdown",
   "id": "1c635d07",
   "metadata": {},
   "source": [
    "# Time-series forecasting and predicting future inflation"
   ]
  },
  {
   "cell_type": "code",
   "execution_count": 101,
   "id": "d51dfc69",
   "metadata": {},
   "outputs": [
    {
     "name": "stdout",
     "output_type": "stream",
     "text": [
      "Time-series forecasting and predicting future inflation \n",
      "\n",
      "Time series visualization : (rolling averages and Trends) :visual smoothing \n",
      "\n"
     ]
    },
    {
     "data": {
      "image/png": "[encoded data removed]",
      "text/plain": [
       "<Figure size 1200x600 with 1 Axes>"
      ]
     },
     "metadata": {},
     "output_type": "display_data"
    }
   ],
   "source": [
    "print('Time-series forecasting and predicting future inflation \\n')\n",
    "        \n",
    "#1.\n",
    "print('Time series visualization : (rolling averages and Trends) :visual smoothing \\n')\n",
    "\n",
    "plt.figure(figsize=(12,6))\n",
    "\n",
    "#plot the original graph year vs avg_inflation\n",
    "plt.plot(Global_avg_inflation,label='Original', color='blue')\n",
    "\n",
    "#ploting avg_inlation for every 5 years , to see a smoother data with less noise and random spikes \n",
    "# in order to understand the trend of inflation\n",
    "plt.plot(Global_avg_inflation.rolling(window=5).mean(),label=\"5-year rolling avg\", color='red',linewidth='3')\n",
    "\n",
    "plt.title('Global inflation trend - smoothed ')\n",
    "plt.xlabel('Year')\n",
    "plt.ylabel('Inflation rate')\n",
    "plt.legend()\n",
    "plt.grid(True)\n",
    "plt.tight_layout()\n",
    "plt.show()"
   ]
  },
  {
   "cell_type": "markdown",
   "id": "d8c405a5",
   "metadata": {},
   "source": [
    "### ARIMA Model creation for prediction"
   ]
  },
  {
   "cell_type": "code",
   "execution_count": 102,
   "id": "232518ab",
   "metadata": {},
   "outputs": [
    {
     "name": "stdout",
     "output_type": "stream",
     "text": [
      "Using gloabal_avg_inflation : a clean, non-volatile trend.\n",
      "using the  Augmented Dickey-Fuller (ADF) test to check data is stationary or not ?: \n",
      "Year\n",
      "1970     6.098704\n",
      "1971     6.700820\n",
      "1972     8.513989\n",
      "1973    15.701141\n",
      "1974    22.426634\n",
      "Name: hcpia_Inflation, dtype: float64\n"
     ]
    }
   ],
   "source": [
    "#2.\n",
    "#auto_regressive model \n",
    "#Auto Regressive: Uses past values to predict future ones\n",
    "#Integrated: Makes the time series stationary by differencing it\n",
    "#MA: Uses past forecast errors to improve predictions\n",
    "\n",
    "#ARIMA model\n",
    "#ARIMA helps us forecast future values in a time series by learning patterns from the past values and their errors.\n",
    "print(\"Using gloabal_avg_inflation : a clean, non-volatile trend.\")\n",
    "\n",
    "#check if data is stationary as ARIMA works best on stationary data : constant mean & variance over time\n",
    "print(\"using the  Augmented Dickey-Fuller (ADF) test to check data is stationary or not ?: \")\n",
    "\n",
    "from statsmodels.tsa.stattools import adfuller\n",
    "print(Global_avg_inflation.head())"
   ]
  },
  {
   "cell_type": "code",
   "execution_count": 103,
   "id": "3a30e723",
   "metadata": {},
   "outputs": [
    {
     "name": "stdout",
     "output_type": "stream",
     "text": [
      "ADF Statistic: -4.36727213939929\n",
      "p-value: 0.0003390233522633275\n",
      "stationary data : use ARIMA as-is : 1,1,1\n"
     ]
    }
   ],
   "source": [
    "result = adfuller(Global_avg_inflation)\n",
    "print(f\"ADF Statistic: {result[0]}\") #more negative : more stationary  #-4.37 : less than threshold of 1%\n",
    "pvalue = result[1]\n",
    "print(f\"p-value: {result[1]}\") #\n",
    "if(pvalue < 0.05):\n",
    "    setARIMA = True\n",
    "    print('stationary data : use ARIMA as-is : 1,1,1')\n",
    "else:\n",
    "    print('Data is not stationary')"
   ]
  },
  {
   "cell_type": "code",
   "execution_count": 104,
   "id": "c302d1ac",
   "metadata": {},
   "outputs": [
    {
     "name": "stdout",
     "output_type": "stream",
     "text": [
      "<YearBegin: month=1>\n",
      "                               SARIMAX Results                                \n",
      "==============================================================================\n",
      "Dep. Variable:        hcpia_Inflation   No. Observations:                   54\n",
      "Model:                 ARIMA(1, 1, 1)   Log Likelihood                -299.789\n",
      "Date:                Wed, 16 Apr 2025   AIC                            605.577\n",
      "Time:                        00:58:15   BIC                            611.488\n",
      "Sample:                    01-01-1970   HQIC                           607.850\n",
      "                         - 01-01-2023                                         \n",
      "Covariance Type:                  opg                                         \n",
      "==============================================================================\n",
      "                 coef    std err          z      P>|z|      [0.025      0.975]\n",
      "------------------------------------------------------------------------------\n",
      "ar.L1          0.4776      0.178      2.681      0.007       0.128       0.827\n",
      "ma.L1         -0.9982      2.898     -0.344      0.731      -6.679       4.682\n",
      "sigma2      4531.2741    1.3e+04      0.349      0.727    -2.1e+04       3e+04\n",
      "===================================================================================\n",
      "Ljung-Box (L1) (Q):                   0.25   Jarque-Bera (JB):               141.29\n",
      "Prob(Q):                              0.62   Prob(JB):                         0.00\n",
      "Heteroskedasticity (H):               4.99   Skew:                             2.17\n",
      "Prob(H) (two-sided):                  0.00   Kurtosis:                         9.72\n",
      "===================================================================================\n",
      "\n",
      "Warnings:\n",
      "[1] Covariance matrix calculated using the outer product of gradients (complex-step).\n",
      "Model summary shows future values dependent on past values \n",
      "Forecasting future 10 years using the ARIMA model :\n",
      "\n"
     ]
    }
   ],
   "source": [
    "if setARIMA:\n",
    "    from statsmodels.tsa.arima.model import ARIMA\n",
    "    Global_avg_inflation_f = Global_avg_inflation.copy()\n",
    "    Global_avg_inflation_f.index = pd.to_datetime(Global_avg_inflation_f.index.astype(str), format='%Y')\n",
    "    \n",
    "    Global_avg_inflation_f = Global_avg_inflation_f.asfreq('YS')\n",
    "    print(Global_avg_inflation_f.index.freq)\n",
    "\n",
    "    model= ARIMA(Global_avg_inflation_f, order=(1,1,1))\n",
    "    model_fit = model.fit()\n",
    "    print(model_fit.summary()) #future values are dependent on past values \\\n",
    "        \n",
    "print(\"Model summary shows future values dependent on past values \")\n",
    "print('Forecasting future 10 years using the ARIMA model :\\n')\n",
    "forecast = model_fit.forecast(steps=10)"
   ]
  },
  {
   "cell_type": "code",
   "execution_count": 105,
   "id": "7d8de345",
   "metadata": {},
   "outputs": [],
   "source": [
    "#xlabel : creating an index of 10 years in future \n",
    "forecasted_for_years = np.arange(Global_avg_inflation.index.max()+1,Global_avg_inflation.index.max() + 11)\n",
    "#creates a range of 10 years"
   ]
  },
  {
   "cell_type": "code",
   "execution_count": 106,
   "id": "9e4be7e7",
   "metadata": {},
   "outputs": [
    {
     "data": {
      "text/plain": [
       "<Figure size 1600x600 with 0 Axes>"
      ]
     },
     "execution_count": 106,
     "metadata": {},
     "output_type": "execute_result"
    },
    {
     "data": {
      "text/plain": [
       "<Figure size 1600x600 with 0 Axes>"
      ]
     },
     "metadata": {},
     "output_type": "display_data"
    }
   ],
   "source": [
    "plt.figure(figsize=(16,6))\n",
    "#plt.plot(Global_avg_inflation,label='Historical Inflation',color=\"blue\",linewidth='2')"
   ]
  },
  {
   "cell_type": "markdown",
   "id": "95bcf178",
   "metadata": {},
   "source": [
    "## plotting the forecasted future inflation  and Plotting a comparison b/w historical inflation data and current predicted future Inflation"
   ]
  },
  {
   "cell_type": "code",
   "execution_count": 107,
   "id": "8154c80d",
   "metadata": {},
   "outputs": [
    {
     "data": {
      "image/png": "[encoded data removed]",
      "text/plain": [
       "<Figure size 640x480 with 1 Axes>"
      ]
     },
     "metadata": {},
     "output_type": "display_data"
    },
    {
     "data": {
      "image/png": "[encoded data removed]",
      "text/plain": [
       "<Figure size 1800x600 with 1 Axes>"
      ]
     },
     "metadata": {},
     "output_type": "display_data"
    }
   ],
   "source": [
    "#plotting the forecasted future inflation     \n",
    "\n",
    "plt.plot(forecasted_for_years,forecast,label=f'Forecast for next ten years : {latest_year+1} to {latest_year+10}', color='red',linestyle='--',marker='o')\n",
    "plt.title(\"Global Inflation Forecast (AIRMA Model)\")\n",
    "plt.xlabel(\"Year\")\n",
    "plt.ylabel(\"Predicted Inflation Rate\")\n",
    "plt.legend()\n",
    "plt.grid(True)\n",
    "\n",
    "# plt.xticks(rotation=45)\n",
    "# plt.xticks(ticks=np.arange(1970,2023,5))\n",
    "\n",
    "plt.tight_layout()\n",
    "plt.show()\n",
    "\n",
    "plt.figure(figsize=(18,6))\n",
    "plt.plot(Global_avg_inflation.index, Global_avg_inflation.values,label='Historical Inflation : 1970-2023',color=\"blue\",linewidth='2')\n",
    "plt.plot(forecasted_for_years,forecast,label=f'Forecast for next ten years : {latest_year+1} to {latest_year+10}', color='red',linestyle='--',marker='o',linewidth=2,markersize=6)\n",
    "\n",
    "plt.scatter(forecasted_for_years,forecast,color='green',zorder=5)\n",
    "plt.xlabel(\"Year\")\n",
    "plt.ylabel(\"Predicted Inflation Rate : hcpia\")\n",
    "plt.title(\"Global Inflation Forecast (AIRMA Model)\")\n",
    "plt.xticks(np.arange(1970,2023,5),rotation=45)\n",
    "plt.grid(True,linestyle='--',alpha=0.5)\n",
    "plt.legend()\n",
    "plt.tight_layout()\n",
    "\n",
    "plt.show()"
   ]
  },
  {
   "cell_type": "markdown",
   "id": "f9ee04d6",
   "metadata": {},
   "source": [
    "# Feature engineering for Inflation Analysis"
   ]
  },
  {
   "cell_type": "code",
   "execution_count": 108,
   "id": "21fffccb",
   "metadata": {},
   "outputs": [
    {
     "name": "stdout",
     "output_type": "stream",
     "text": [
      "\n",
      " Feature engineering for Inflation Analysis \n",
      " \n"
     ]
    }
   ],
   "source": [
    "print(\"\\n Feature engineering for Inflation Analysis \\n \")\n",
    "\n",
    "#1.\n",
    "#convert global trend series to a dataframe\n",
    "#converting to data frame so that we can add columns like lag_values, rolling averages\n",
    "Avg_inflation_df = Global_avg_inflation.reset_index()\n",
    "Avg_inflation_df.columns = ['Year' , 'Avg_hcpia_Inflation']"
   ]
  },
  {
   "cell_type": "code",
   "execution_count": 109,
   "id": "85be4144",
   "metadata": {},
   "outputs": [
    {
     "name": "stdout",
     "output_type": "stream",
     "text": [
      "Lag features used to capture memory of past inflation to model/predict future inflation better \n",
      "\n"
     ]
    }
   ],
   "source": [
    "#2.\n",
    "#lag values : this is a time series , past values strongly affect the future values \n",
    "#lag values : Giving model memory of inflation_value of just a year ago to help with better prediction\n",
    "\n",
    "#memory of past year's inflation : for every year its avg_inflation in past year is being stored\n",
    "Avg_inflation_df['Inflation_Lag1'] = Avg_inflation_df['Avg_hcpia_Inflation'].shift(1)\n",
    "#memory of past year's past year's inflation : for every year its avg_inflation for 2 years before is being stored\n",
    "Avg_inflation_df['Inflation_Lag2'] = Avg_inflation_df['Avg_hcpia_Inflation'].shift(2)\n",
    "\n",
    "print('Lag features used to capture memory of past inflation to model/predict future inflation better \\n')\n"
   ]
  },
  {
   "cell_type": "code",
   "execution_count": 110,
   "id": "70a4a225",
   "metadata": {},
   "outputs": [
    {
     "name": "stdout",
     "output_type": "stream",
     "text": [
      "To smooth out short-term noise and highlight long-term trends : adding rolling features/ moving averages to reduce variance and outliers in the raw inflation data \n",
      "\n"
     ]
    }
   ],
   "source": [
    "#3.\n",
    "print('To smooth out short-term noise and highlight long-term trends : adding rolling features/ moving averages to reduce variance and outliers in the raw inflation data \\n')\n",
    "#avoids sudden spikes or drops , adds a trendiness : better for model prediction\n",
    "Avg_inflation_df[\"Inflation_MA3\"] = Avg_inflation_df['Avg_hcpia_Inflation'].rolling(window=3).mean()\n",
    "Avg_inflation_df['Inflation_MA5'] = Avg_inflation_df['Avg_hcpia_Inflation'].rolling(window=5).mean()\n",
    "\n",
    "#scope to plot a visual comparision graph here"
   ]
  },
  {
   "cell_type": "markdown",
   "id": "bc6a3227",
   "metadata": {},
   "source": [
    "#### Above 0 : Comparitively increased , below 0 : comparitevly decresed , big spikes or drops : shocks\n"
   ]
  },
  {
   "cell_type": "code",
   "execution_count": 111,
   "id": "49d4fa4c",
   "metadata": {},
   "outputs": [
    {
     "name": "stdout",
     "output_type": "stream",
     "text": [
      "Precentage Change in Inflation (decline/growth) year over year \n",
      "\n"
     ]
    },
    {
     "data": {
      "image/png": "[encoded data removed]",
      "text/plain": [
       "<Figure size 1200x500 with 1 Axes>"
      ]
     },
     "metadata": {},
     "output_type": "display_data"
    }
   ],
   "source": [
    "#4.\n",
    "print('Precentage Change in Inflation (decline/growth) year over year \\n')\n",
    "#Better trend direction , volatility detection to check for shocks in the data , to check feature usefulness\n",
    "Avg_inflation_df['Inflation_pct_change']=Avg_inflation_df['Avg_hcpia_Inflation'].pct_change() * 100\n",
    "\n",
    "plt.figure(figsize=(12,5))\n",
    "plt.plot(Avg_inflation_df['Year'],Avg_inflation_df['Inflation_pct_change'],color='red', marker='o',linestyle='--')\n",
    "plt.axhline(y=0, color='grey', linestyle='--') #a reference line  at 0\n",
    "plt.title('Year-over-Year percentage change in Inflation')\n",
    "plt.xlabel('Year')\n",
    "plt.ylabel('Percentage change in Inflation')\n",
    "plt.grid(True)\n",
    "plt.tight_layout()\n",
    "plt.show()\n"
   ]
  },
  {
   "cell_type": "code",
   "execution_count": 112,
   "id": "45fd5ee8",
   "metadata": {},
   "outputs": [
    {
     "name": "stdout",
     "output_type": "stream",
     "text": [
      "hcpia Avg_inflation data feature_engineered : \n",
      "    Year  Avg_hcpia_Inflation  Inflation_Lag1  Inflation_Lag2  Inflation_MA3  \\\n",
      "44  2014             3.983953        4.607088        5.643928       4.744990   \n",
      "45  2015             4.202230        3.983953        4.607088       4.264424   \n",
      "46  2016             6.890869        4.202230        3.983953       5.025684   \n",
      "47  2017             7.331936        6.890869        4.202230       6.141679   \n",
      "48  2018           323.413338        7.331936        6.890869     112.545381   \n",
      "49  2019           104.651808      323.413338        7.331936     145.132361   \n",
      "50  2020           107.105032      104.651808      323.413338     178.390059   \n",
      "51  2021            16.923136      107.105032      104.651808      76.226659   \n",
      "52  2022            14.231114       16.923136      107.105032      46.086427   \n",
      "53  2023            13.666205       14.231114       16.923136      14.940152   \n",
      "\n",
      "    Inflation_MA5  Inflation_pct_change  \n",
      "44       4.981969            -13.525572  \n",
      "45       4.947781              5.478919  \n",
      "46       5.065614             63.981237  \n",
      "47       5.403215              6.400744  \n",
      "48      69.164465           4311.022210  \n",
      "49      89.298036            -67.641468  \n",
      "50     109.878597              2.344178  \n",
      "51     111.885050            -84.199495  \n",
      "52     113.264886            -15.907348  \n",
      "53      51.315459             -3.969531  \n"
     ]
    }
   ],
   "source": [
    "print('hcpia Avg_inflation data feature_engineered : ')\n",
    "print(Avg_inflation_df.tail(10))"
   ]
  },
  {
   "cell_type": "markdown",
   "id": "b4638126",
   "metadata": {},
   "source": [
    "# Interactive summary visualization phase :\n"
   ]
  },
  {
   "cell_type": "code",
   "execution_count": 113,
   "id": "5e2c34d7",
   "metadata": {},
   "outputs": [
    {
     "name": "stdout",
     "output_type": "stream",
     "text": [
      "Interactive Line plot : Global Inflation Trend \n",
      "\n"
     ]
    },
    {
     "data": {
      "application/vnd.plotly.v1+json": {
       "config": {
        "plotlyServerURL": "https://plot.ly"
       },
       "data": [
        {
         "hovertemplate": "Year=%{x}<br>Avg_hcpia_Inflation=%{y}<extra></extra>",
         "legendgroup": "",
         "line": {
          "color": "blue",
          "dash": "solid"
         },
         "marker": {
          "symbol": "circle"
         },
         "mode": "lines",
         "name": "",
         "orientation": "v",
         "showlegend": false,
         "type": "scatter",
         "x": {
          "bdata": "sgezB7QHtQe2B7cHuAe5B7oHuwe8B70Hvge/B8AHwQfCB8MHxAfFB8YHxwfIB8kHygfLB8wHzQfOB88H0AfRB9IH0wfUB9UH1gfXB9gH2QfaB9sH3AfdB94H3wfgB+EH4gfjB+QH5QfmB+cH",
          "dtype": "i2"
         },
         "xaxis": "x",
         "y": {
          "bdata": "1K7knRJlGEAUsD+ro80aQD4Gp5gpByFAnQiM8ftmL0BHTxDdN202QOKVcXUegDNA+QnHXx4oM0BchBHN3YwxQCz/4GWK3i1AQpOBJV9dMUBHLG3IP/M1QBvzsC267TJA6z3O0UbZNEBe6sq9DJ06QKQJQjkwmURAUWjzaTBfYkCnWrorixc9QEZ9EQFI+FZAFBMADyQDTkDlvMs6n6liQKXZXzozm2FA+5uVmeRSR0AYw1dZDGJeQCrXHF6+KG1AyWN7WPOFdkC1272A3wFPQK9BhfZcIUpA4DCuqjQoMkB5ieyyPd4hQAQ2hgquSSZAJey85Yh2J0BQkv3MEmAgQAscEaN5WBdAzE0l0G0NGECEAUsQPi0cQAmKr1bWcBVAuUfWGxs+GUAi/TFLRCQTQLjBBAHHZShAAEQku6NKEkCJZxrwIH4RQKs6J+7xNBlAmPxG9GGTFkAs2SxvqG0SQKkcw68i3w9Ajm4YfRXPEEBw61YRQJAbQFSFLhvnUx1AhG1oCJ02dEBcULc3tylaQPm9Ddm4xlpAyj/kplLsMECnNAGSVHYsQJOXf+AYVStA",
          "dtype": "f8"
         },
         "yaxis": "y"
        }
       ],
       "layout": {
        "legend": {
         "tracegroupgap": 0
        },
        "template": {
         "data": {
          "bar": [
           {
            "error_x": {
             "color": "#2a3f5f"
            },
            "error_y": {
             "color": "#2a3f5f"
            },
            "marker": {
             "line": {
              "color": "#E5ECF6",
              "width": 0.5
             },
             "pattern": {
              "fillmode": "overlay",
              "size": 10,
              "solidity": 0.2
             }
            },
            "type": "bar"
           }
          ],
          "barpolar": [
           {
            "marker": {
             "line": {
              "color": "#E5ECF6",
              "width": 0.5
             },
             "pattern": {
              "fillmode": "overlay",
              "size": 10,
              "solidity": 0.2
             }
            },
            "type": "barpolar"
           }
          ],
          "carpet": [
           {
            "aaxis": {
             "endlinecolor": "#2a3f5f",
             "gridcolor": "white",
             "linecolor": "white",
             "minorgridcolor": "white",
             "startlinecolor": "#2a3f5f"
            },
            "baxis": {
             "endlinecolor": "#2a3f5f",
             "gridcolor": "white",
             "linecolor": "white",
             "minorgridcolor": "white",
             "startlinecolor": "#2a3f5f"
            },
            "type": "carpet"
           }
          ],
          "choropleth": [
           {
            "colorbar": {
             "outlinewidth": 0,
             "ticks": ""
            },
            "type": "choropleth"
           }
          ],
          "contour": [
           {
            "colorbar": {
             "outlinewidth": 0,
             "ticks": ""
            },
            "colorscale": [
             [
              0,
              "#0d0887"
             ],
             [
              0.1111111111111111,
              "#46039f"
             ],
             [
              0.2222222222222222,
              "#7201a8"
             ],
             [
              0.3333333333333333,
              "#9c179e"
             ],
             [
              0.4444444444444444,
              "#bd3786"
             ],
             [
              0.5555555555555556,
              "#d8576b"
             ],
             [
              0.6666666666666666,
              "#ed7953"
             ],
             [
              0.7777777777777778,
              "#fb9f3a"
             ],
             [
              0.8888888888888888,
              "#fdca26"
             ],
             [
              1,
              "#f0f921"
             ]
            ],
            "type": "contour"
           }
          ],
          "contourcarpet": [
           {
            "colorbar": {
             "outlinewidth": 0,
             "ticks": ""
            },
            "type": "contourcarpet"
           }
          ],
          "heatmap": [
           {
            "colorbar": {
             "outlinewidth": 0,
             "ticks": ""
            },
            "colorscale": [
             [
              0,
              "#0d0887"
             ],
             [
              0.1111111111111111,
              "#46039f"
             ],
             [
              0.2222222222222222,
              "#7201a8"
             ],
             [
              0.3333333333333333,
              "#9c179e"
             ],
             [
              0.4444444444444444,
              "#bd3786"
             ],
             [
              0.5555555555555556,
              "#d8576b"
             ],
             [
              0.6666666666666666,
              "#ed7953"
             ],
             [
              0.7777777777777778,
              "#fb9f3a"
             ],
             [
              0.8888888888888888,
              "#fdca26"
             ],
             [
              1,
              "#f0f921"
             ]
            ],
            "type": "heatmap"
           }
          ],
          "histogram": [
           {
            "marker": {
             "pattern": {
              "fillmode": "overlay",
              "size": 10,
              "solidity": 0.2
             }
            },
            "type": "histogram"
           }
          ],
          "histogram2d": [
           {
            "colorbar": {
             "outlinewidth": 0,
             "ticks": ""
            },
            "colorscale": [
             [
              0,
              "#0d0887"
             ],
             [
              0.1111111111111111,
              "#46039f"
             ],
             [
              0.2222222222222222,
              "#7201a8"
             ],
             [
              0.3333333333333333,
              "#9c179e"
             ],
             [
              0.4444444444444444,
              "#bd3786"
             ],
             [
              0.5555555555555556,
              "#d8576b"
             ],
             [
              0.6666666666666666,
              "#ed7953"
             ],
             [
              0.7777777777777778,
              "#fb9f3a"
             ],
             [
              0.8888888888888888,
              "#fdca26"
             ],
             [
              1,
              "#f0f921"
             ]
            ],
            "type": "histogram2d"
           }
          ],
          "histogram2dcontour": [
           {
            "colorbar": {
             "outlinewidth": 0,
             "ticks": ""
            },
            "colorscale": [
             [
              0,
              "#0d0887"
             ],
             [
              0.1111111111111111,
              "#46039f"
             ],
             [
              0.2222222222222222,
              "#7201a8"
             ],
             [
              0.3333333333333333,
              "#9c179e"
             ],
             [
              0.4444444444444444,
              "#bd3786"
             ],
             [
              0.5555555555555556,
              "#d8576b"
             ],
             [
              0.6666666666666666,
              "#ed7953"
             ],
             [
              0.7777777777777778,
              "#fb9f3a"
             ],
             [
              0.8888888888888888,
              "#fdca26"
             ],
             [
              1,
              "#f0f921"
             ]
            ],
            "type": "histogram2dcontour"
           }
          ],
          "mesh3d": [
           {
            "colorbar": {
             "outlinewidth": 0,
             "ticks": ""
            },
            "type": "mesh3d"
           }
          ],
          "parcoords": [
           {
            "line": {
             "colorbar": {
              "outlinewidth": 0,
              "ticks": ""
             }
            },
            "type": "parcoords"
           }
          ],
          "pie": [
           {
            "automargin": true,
            "type": "pie"
           }
          ],
          "scatter": [
           {
            "fillpattern": {
             "fillmode": "overlay",
             "size": 10,
             "solidity": 0.2
            },
            "type": "scatter"
           }
          ],
          "scatter3d": [
           {
            "line": {
             "colorbar": {
              "outlinewidth": 0,
              "ticks": ""
             }
            },
            "marker": {
             "colorbar": {
              "outlinewidth": 0,
              "ticks": ""
             }
            },
            "type": "scatter3d"
           }
          ],
          "scattercarpet": [
           {
            "marker": {
             "colorbar": {
              "outlinewidth": 0,
              "ticks": ""
             }
            },
            "type": "scattercarpet"
           }
          ],
          "scattergeo": [
           {
            "marker": {
             "colorbar": {
              "outlinewidth": 0,
              "ticks": ""
             }
            },
            "type": "scattergeo"
           }
          ],
          "scattergl": [
           {
            "marker": {
             "colorbar": {
              "outlinewidth": 0,
              "ticks": ""
             }
            },
            "type": "scattergl"
           }
          ],
          "scattermap": [
           {
            "marker": {
             "colorbar": {
              "outlinewidth": 0,
              "ticks": ""
             }
            },
            "type": "scattermap"
           }
          ],
          "scattermapbox": [
           {
            "marker": {
             "colorbar": {
              "outlinewidth": 0,
              "ticks": ""
             }
            },
            "type": "scattermapbox"
           }
          ],
          "scatterpolar": [
           {
            "marker": {
             "colorbar": {
              "outlinewidth": 0,
              "ticks": ""
             }
            },
            "type": "scatterpolar"
           }
          ],
          "scatterpolargl": [
           {
            "marker": {
             "colorbar": {
              "outlinewidth": 0,
              "ticks": ""
             }
            },
            "type": "scatterpolargl"
           }
          ],
          "scatterternary": [
           {
            "marker": {
             "colorbar": {
              "outlinewidth": 0,
              "ticks": ""
             }
            },
            "type": "scatterternary"
           }
          ],
          "surface": [
           {
            "colorbar": {
             "outlinewidth": 0,
             "ticks": ""
            },
            "colorscale": [
             [
              0,
              "#0d0887"
             ],
             [
              0.1111111111111111,
              "#46039f"
             ],
             [
              0.2222222222222222,
              "#7201a8"
             ],
             [
              0.3333333333333333,
              "#9c179e"
             ],
             [
              0.4444444444444444,
              "#bd3786"
             ],
             [
              0.5555555555555556,
              "#d8576b"
             ],
             [
              0.6666666666666666,
              "#ed7953"
             ],
             [
              0.7777777777777778,
              "#fb9f3a"
             ],
             [
              0.8888888888888888,
              "#fdca26"
             ],
             [
              1,
              "#f0f921"
             ]
            ],
            "type": "surface"
           }
          ],
          "table": [
           {
            "cells": {
             "fill": {
              "color": "#EBF0F8"
             },
             "line": {
              "color": "white"
             }
            },
            "header": {
             "fill": {
              "color": "#C8D4E3"
             },
             "line": {
              "color": "white"
             }
            },
            "type": "table"
           }
          ]
         },
         "layout": {
          "annotationdefaults": {
           "arrowcolor": "#2a3f5f",
           "arrowhead": 0,
           "arrowwidth": 1
          },
          "autotypenumbers": "strict",
          "coloraxis": {
           "colorbar": {
            "outlinewidth": 0,
            "ticks": ""
           }
          },
          "colorscale": {
           "diverging": [
            [
             0,
             "#8e0152"
            ],
            [
             0.1,
             "#c51b7d"
            ],
            [
             0.2,
             "#de77ae"
            ],
            [
             0.3,
             "#f1b6da"
            ],
            [
             0.4,
             "#fde0ef"
            ],
            [
             0.5,
             "#f7f7f7"
            ],
            [
             0.6,
             "#e6f5d0"
            ],
            [
             0.7,
             "#b8e186"
            ],
            [
             0.8,
             "#7fbc41"
            ],
            [
             0.9,
             "#4d9221"
            ],
            [
             1,
             "#276419"
            ]
           ],
           "sequential": [
            [
             0,
             "#0d0887"
            ],
            [
             0.1111111111111111,
             "#46039f"
            ],
            [
             0.2222222222222222,
             "#7201a8"
            ],
            [
             0.3333333333333333,
             "#9c179e"
            ],
            [
             0.4444444444444444,
             "#bd3786"
            ],
            [
             0.5555555555555556,
             "#d8576b"
            ],
            [
             0.6666666666666666,
             "#ed7953"
            ],
            [
             0.7777777777777778,
             "#fb9f3a"
            ],
            [
             0.8888888888888888,
             "#fdca26"
            ],
            [
             1,
             "#f0f921"
            ]
           ],
           "sequentialminus": [
            [
             0,
             "#0d0887"
            ],
            [
             0.1111111111111111,
             "#46039f"
            ],
            [
             0.2222222222222222,
             "#7201a8"
            ],
            [
             0.3333333333333333,
             "#9c179e"
            ],
            [
             0.4444444444444444,
             "#bd3786"
            ],
            [
             0.5555555555555556,
             "#d8576b"
            ],
            [
             0.6666666666666666,
             "#ed7953"
            ],
            [
             0.7777777777777778,
             "#fb9f3a"
            ],
            [
             0.8888888888888888,
             "#fdca26"
            ],
            [
             1,
             "#f0f921"
            ]
           ]
          },
          "colorway": [
           "#636efa",
           "#EF553B",
           "#00cc96",
           "#ab63fa",
           "#FFA15A",
           "#19d3f3",
           "#FF6692",
           "#B6E880",
           "#FF97FF",
           "#FECB52"
          ],
          "font": {
           "color": "#2a3f5f"
          },
          "geo": {
           "bgcolor": "white",
           "lakecolor": "white",
           "landcolor": "#E5ECF6",
           "showlakes": true,
           "showland": true,
           "subunitcolor": "white"
          },
          "hoverlabel": {
           "align": "left"
          },
          "hovermode": "closest",
          "mapbox": {
           "style": "light"
          },
          "paper_bgcolor": "white",
          "plot_bgcolor": "#E5ECF6",
          "polar": {
           "angularaxis": {
            "gridcolor": "white",
            "linecolor": "white",
            "ticks": ""
           },
           "bgcolor": "#E5ECF6",
           "radialaxis": {
            "gridcolor": "white",
            "linecolor": "white",
            "ticks": ""
           }
          },
          "scene": {
           "xaxis": {
            "backgroundcolor": "#E5ECF6",
            "gridcolor": "white",
            "gridwidth": 2,
            "linecolor": "white",
            "showbackground": true,
            "ticks": "",
            "zerolinecolor": "white"
           },
           "yaxis": {
            "backgroundcolor": "#E5ECF6",
            "gridcolor": "white",
            "gridwidth": 2,
            "linecolor": "white",
            "showbackground": true,
            "ticks": "",
            "zerolinecolor": "white"
           },
           "zaxis": {
            "backgroundcolor": "#E5ECF6",
            "gridcolor": "white",
            "gridwidth": 2,
            "linecolor": "white",
            "showbackground": true,
            "ticks": "",
            "zerolinecolor": "white"
           }
          },
          "shapedefaults": {
           "line": {
            "color": "#2a3f5f"
           }
          },
          "ternary": {
           "aaxis": {
            "gridcolor": "white",
            "linecolor": "white",
            "ticks": ""
           },
           "baxis": {
            "gridcolor": "white",
            "linecolor": "white",
            "ticks": ""
           },
           "bgcolor": "#E5ECF6",
           "caxis": {
            "gridcolor": "white",
            "linecolor": "white",
            "ticks": ""
           }
          },
          "title": {
           "x": 0.05
          },
          "xaxis": {
           "automargin": true,
           "gridcolor": "white",
           "linecolor": "white",
           "ticks": "",
           "title": {
            "standoff": 15
           },
           "zerolinecolor": "white",
           "zerolinewidth": 2
          },
          "yaxis": {
           "automargin": true,
           "gridcolor": "white",
           "linecolor": "white",
           "ticks": "",
           "title": {
            "standoff": 15
           },
           "zerolinecolor": "white",
           "zerolinewidth": 2
          }
         }
        },
        "title": {
         "text": "Interactive Global Inflation Trend"
        },
        "xaxis": {
         "anchor": "y",
         "domain": [
          0,
          1
         ],
         "title": {
          "text": "Year"
         }
        },
        "yaxis": {
         "anchor": "x",
         "domain": [
          0,
          1
         ],
         "title": {
          "text": "Inflation Rate%"
         }
        }
       }
      }
     },
     "metadata": {},
     "output_type": "display_data"
    }
   ],
   "source": [
    "#1.\n",
    "print('Interactive Line plot : Global Inflation Trend \\n')\n",
    "\n",
    "fig = px.line(Avg_inflation_df, x ='Year', y = 'Avg_hcpia_Inflation', title='Interactive Global Inflation Trend')\n",
    "fig.update_traces(line=dict(color='blue'))\n",
    "fig.update_layout(yaxis_title='Inflation Rate%', xaxis_title='Year')\n",
    "fig.show()"
   ]
  },
  {
   "cell_type": "code",
   "execution_count": 114,
   "id": "7b5f331f",
   "metadata": {},
   "outputs": [
    {
     "name": "stdout",
     "output_type": "stream",
     "text": [
      "Heatmap of Inflation : Country VS year \n",
      "\n"
     ]
    },
    {
     "data": {
      "application/vnd.plotly.v1+json": {
       "config": {
        "plotlyServerURL": "https://plot.ly"
       },
       "data": [
        {
         "coloraxis": "coloraxis",
         "hovertemplate": "Year: %{x}<br>Country: %{y}<br>Inflation rate %: %{z}<extra></extra>",
         "name": "0",
         "type": "heatmap",
         "x": {
          "bdata": "wQfDB8QHxQfGB8gHyQfKB8wH4gfjB+QH",
          "dtype": "i2"
         },
         "xaxis": "x",
         "y": [
          "Angola",
          "Armenia",
          "Aruba",
          "Bolivia",
          "Bosnia and Herzegovina",
          "Congo, Dem. Rep.",
          "Georgia",
          "Nicaragua",
          "Peru",
          "Sudan",
          "Ukraine",
          "Venezuela, RB"
         ],
         "yaxis": "y",
         "z": {
          "bdata": "AAAAAAAA+H8AAAAAAAD4fwAAAAAAAPh/AAAAAAAA+H8AAAAAAAD4fwAAAAAAAPh/AAAAAAAA+H8AAAAAAAD4fwAAAIACMrBAAAAAAAAA+H8AAAAAAAD4fwAAAAAAAPh/AAAAAAAA+H8AAAAAAAD4fwAAAAAAAPh/AAAAAAAA+H8AAAAAAAD4fwAAAAAAAPh/AAAAoJknrUAAAAAAc5m0QAAAAAAAAPh/AAAAAAAA+H8AAAAAAAD4fwAAAAAAAPh/AAAAAAAA+H8AAAAAAAD4fwAAAAAAAPh/AAAAAAAA+H8AAAAAAAD4fwAAAAAAAPh/AAAAoJknrUAAAAAAc5m0QAAAAAAAAPh/AAAAAAAA+H8AAAAAAAD4fwAAAAAAAPh/AAAA4GnbxkAAAAAAAAD4fwAAAAAAAPh/AAAAAAAA+H8AAAAAAAD4fwAAAAAAAPh/AAAAAAAA+H8AAAAAAAD4fwAAAAAAAPh/AAAAAAAA+H8AAAAAAAD4fwAAAAAAAPh/AAAA4GnbxkAAAAAAAAD4fwAAAAAAAPh/AAAAAAAA+H8AAAAAAAD4fwAAAAAAAPh/AAAAAAAA+H8AAAAAAAD4fwAAAAAAAPh/AAAAAAAA+H8AAAAAAAD4fwAAAAAAAPh/AAAAAAAA+H8AAAAAAAD4fwAAAAAAAPh/AAAAAAAA+H8AAAAAAAD4fwAAAIArIbBAAAAAAAAA+H8AAABgRjfXQAAAAAAAAPh/AAAAAAAA+H8AAAAAAAD4fwAAAAAAAPh/AAAAAAAA+H8AAAAAAAD4fwAAAAAAAPh/AAAAAAAA+H8AAAAAAAD4fwAAAAAAAPh/AAAAgL1qqEAAAAAAQHvOQAAAAAAAAPh/AAAAAAAA+H8AAAAAAAD4fwAAAAAAAPh/AAAAAAAA+H8AAAAAwJrJQAAAAEAzp7JAAAAAQLMEvUAAAAAAAAD4fwAAAAAAAPh/AAAAAAAA+H8AAAAAAAD4fwAAAAAAAPh/AAAAAAAA+H8AAAAAAAD4fwAAAAAAAPh/AAAAAAAA+H8AAAAAAAD4fwAAAAAAAPh/AAAAIH6fqkAAAAAA0by8QAAAAAAAAPh/AAAAAAAA+H8AAAAAAAD4fwAAAAAAAPh/AAAAAAAA+H8AAAAAAAD4fwAAAAAAAPh/AAAAAAAA+H8AAAAAAAD4fwAAAAAAAPh/AAAAAAAA+H8AAAAAAAD4fwAAAAAAAPh/AAAAAAAA+H8AAAAAAAD4fwAAAAAAAPh/AAAAAAAA+H8AAAAAAAD4fzs23Ebur9BAAAAAAAAA+H8AAAAAAAD4fwAAAAAAAPh/AAAAAAAA+H8AAAAAAAD4fwAAAAAAAPh/AAAAoJQ0skAAAAAAAAD4fwAAAAAAAPh/AAAAAAAA+H8AAAAAAAD4fwAAAAAAAPh/AAAAAAAA+H8AAAAAAAD4fwAAAAAAAPh/AAAAAAAA+H8AAAAAAAD4fwAAAAAAAPh/AAAAAAAA+H8AAAAAAAD4fwAAAAAAAPh/9ihcj8Lr70AAAACAgXDTQAAAAAAAAPh/",
          "dtype": "f8",
          "shape": "12, 12"
         }
        }
       ],
       "layout": {
        "autosize": false,
        "coloraxis": {
         "colorbar": {
          "title": {
           "text": "Inflation rate %"
          }
         },
         "colorscale": [
          [
           0,
           "rgb(0,104,55)"
          ],
          [
           0.1,
           "rgb(26,152,80)"
          ],
          [
           0.2,
           "rgb(102,189,99)"
          ],
          [
           0.3,
           "rgb(166,217,106)"
          ],
          [
           0.4,
           "rgb(217,239,139)"
          ],
          [
           0.5,
           "rgb(255,255,191)"
          ],
          [
           0.6,
           "rgb(254,224,139)"
          ],
          [
           0.7,
           "rgb(253,174,97)"
          ],
          [
           0.8,
           "rgb(244,109,67)"
          ],
          [
           0.9,
           "rgb(215,48,39)"
          ],
          [
           1,
           "rgb(165,0,38)"
          ]
         ]
        },
        "height": 1400,
        "margin": {
         "b": 50,
         "l": 50,
         "r": 50,
         "t": 50
        },
        "template": {
         "data": {
          "bar": [
           {
            "error_x": {
             "color": "#2a3f5f"
            },
            "error_y": {
             "color": "#2a3f5f"
            },
            "marker": {
             "line": {
              "color": "#E5ECF6",
              "width": 0.5
             },
             "pattern": {
              "fillmode": "overlay",
              "size": 10,
              "solidity": 0.2
             }
            },
            "type": "bar"
           }
          ],
          "barpolar": [
           {
            "marker": {
             "line": {
              "color": "#E5ECF6",
              "width": 0.5
             },
             "pattern": {
              "fillmode": "overlay",
              "size": 10,
              "solidity": 0.2
             }
            },
            "type": "barpolar"
           }
          ],
          "carpet": [
           {
            "aaxis": {
             "endlinecolor": "#2a3f5f",
             "gridcolor": "white",
             "linecolor": "white",
             "minorgridcolor": "white",
             "startlinecolor": "#2a3f5f"
            },
            "baxis": {
             "endlinecolor": "#2a3f5f",
             "gridcolor": "white",
             "linecolor": "white",
             "minorgridcolor": "white",
             "startlinecolor": "#2a3f5f"
            },
            "type": "carpet"
           }
          ],
          "choropleth": [
           {
            "colorbar": {
             "outlinewidth": 0,
             "ticks": ""
            },
            "type": "choropleth"
           }
          ],
          "contour": [
           {
            "colorbar": {
             "outlinewidth": 0,
             "ticks": ""
            },
            "colorscale": [
             [
              0,
              "#0d0887"
             ],
             [
              0.1111111111111111,
              "#46039f"
             ],
             [
              0.2222222222222222,
              "#7201a8"
             ],
             [
              0.3333333333333333,
              "#9c179e"
             ],
             [
              0.4444444444444444,
              "#bd3786"
             ],
             [
              0.5555555555555556,
              "#d8576b"
             ],
             [
              0.6666666666666666,
              "#ed7953"
             ],
             [
              0.7777777777777778,
              "#fb9f3a"
             ],
             [
              0.8888888888888888,
              "#fdca26"
             ],
             [
              1,
              "#f0f921"
             ]
            ],
            "type": "contour"
           }
          ],
          "contourcarpet": [
           {
            "colorbar": {
             "outlinewidth": 0,
             "ticks": ""
            },
            "type": "contourcarpet"
           }
          ],
          "heatmap": [
           {
            "colorbar": {
             "outlinewidth": 0,
             "ticks": ""
            },
            "colorscale": [
             [
              0,
              "#0d0887"
             ],
             [
              0.1111111111111111,
              "#46039f"
             ],
             [
              0.2222222222222222,
              "#7201a8"
             ],
             [
              0.3333333333333333,
              "#9c179e"
             ],
             [
              0.4444444444444444,
              "#bd3786"
             ],
             [
              0.5555555555555556,
              "#d8576b"
             ],
             [
              0.6666666666666666,
              "#ed7953"
             ],
             [
              0.7777777777777778,
              "#fb9f3a"
             ],
             [
              0.8888888888888888,
              "#fdca26"
             ],
             [
              1,
              "#f0f921"
             ]
            ],
            "type": "heatmap"
           }
          ],
          "histogram": [
           {
            "marker": {
             "pattern": {
              "fillmode": "overlay",
              "size": 10,
              "solidity": 0.2
             }
            },
            "type": "histogram"
           }
          ],
          "histogram2d": [
           {
            "colorbar": {
             "outlinewidth": 0,
             "ticks": ""
            },
            "colorscale": [
             [
              0,
              "#0d0887"
             ],
             [
              0.1111111111111111,
              "#46039f"
             ],
             [
              0.2222222222222222,
              "#7201a8"
             ],
             [
              0.3333333333333333,
              "#9c179e"
             ],
             [
              0.4444444444444444,
              "#bd3786"
             ],
             [
              0.5555555555555556,
              "#d8576b"
             ],
             [
              0.6666666666666666,
              "#ed7953"
             ],
             [
              0.7777777777777778,
              "#fb9f3a"
             ],
             [
              0.8888888888888888,
              "#fdca26"
             ],
             [
              1,
              "#f0f921"
             ]
            ],
            "type": "histogram2d"
           }
          ],
          "histogram2dcontour": [
           {
            "colorbar": {
             "outlinewidth": 0,
             "ticks": ""
            },
            "colorscale": [
             [
              0,
              "#0d0887"
             ],
             [
              0.1111111111111111,
              "#46039f"
             ],
             [
              0.2222222222222222,
              "#7201a8"
             ],
             [
              0.3333333333333333,
              "#9c179e"
             ],
             [
              0.4444444444444444,
              "#bd3786"
             ],
             [
              0.5555555555555556,
              "#d8576b"
             ],
             [
              0.6666666666666666,
              "#ed7953"
             ],
             [
              0.7777777777777778,
              "#fb9f3a"
             ],
             [
              0.8888888888888888,
              "#fdca26"
             ],
             [
              1,
              "#f0f921"
             ]
            ],
            "type": "histogram2dcontour"
           }
          ],
          "mesh3d": [
           {
            "colorbar": {
             "outlinewidth": 0,
             "ticks": ""
            },
            "type": "mesh3d"
           }
          ],
          "parcoords": [
           {
            "line": {
             "colorbar": {
              "outlinewidth": 0,
              "ticks": ""
             }
            },
            "type": "parcoords"
           }
          ],
          "pie": [
           {
            "automargin": true,
            "type": "pie"
           }
          ],
          "scatter": [
           {
            "fillpattern": {
             "fillmode": "overlay",
             "size": 10,
             "solidity": 0.2
            },
            "type": "scatter"
           }
          ],
          "scatter3d": [
           {
            "line": {
             "colorbar": {
              "outlinewidth": 0,
              "ticks": ""
             }
            },
            "marker": {
             "colorbar": {
              "outlinewidth": 0,
              "ticks": ""
             }
            },
            "type": "scatter3d"
           }
          ],
          "scattercarpet": [
           {
            "marker": {
             "colorbar": {
              "outlinewidth": 0,
              "ticks": ""
             }
            },
            "type": "scattercarpet"
           }
          ],
          "scattergeo": [
           {
            "marker": {
             "colorbar": {
              "outlinewidth": 0,
              "ticks": ""
             }
            },
            "type": "scattergeo"
           }
          ],
          "scattergl": [
           {
            "marker": {
             "colorbar": {
              "outlinewidth": 0,
              "ticks": ""
             }
            },
            "type": "scattergl"
           }
          ],
          "scattermap": [
           {
            "marker": {
             "colorbar": {
              "outlinewidth": 0,
              "ticks": ""
             }
            },
            "type": "scattermap"
           }
          ],
          "scattermapbox": [
           {
            "marker": {
             "colorbar": {
              "outlinewidth": 0,
              "ticks": ""
             }
            },
            "type": "scattermapbox"
           }
          ],
          "scatterpolar": [
           {
            "marker": {
             "colorbar": {
              "outlinewidth": 0,
              "ticks": ""
             }
            },
            "type": "scatterpolar"
           }
          ],
          "scatterpolargl": [
           {
            "marker": {
             "colorbar": {
              "outlinewidth": 0,
              "ticks": ""
             }
            },
            "type": "scatterpolargl"
           }
          ],
          "scatterternary": [
           {
            "marker": {
             "colorbar": {
              "outlinewidth": 0,
              "ticks": ""
             }
            },
            "type": "scatterternary"
           }
          ],
          "surface": [
           {
            "colorbar": {
             "outlinewidth": 0,
             "ticks": ""
            },
            "colorscale": [
             [
              0,
              "#0d0887"
             ],
             [
              0.1111111111111111,
              "#46039f"
             ],
             [
              0.2222222222222222,
              "#7201a8"
             ],
             [
              0.3333333333333333,
              "#9c179e"
             ],
             [
              0.4444444444444444,
              "#bd3786"
             ],
             [
              0.5555555555555556,
              "#d8576b"
             ],
             [
              0.6666666666666666,
              "#ed7953"
             ],
             [
              0.7777777777777778,
              "#fb9f3a"
             ],
             [
              0.8888888888888888,
              "#fdca26"
             ],
             [
              1,
              "#f0f921"
             ]
            ],
            "type": "surface"
           }
          ],
          "table": [
           {
            "cells": {
             "fill": {
              "color": "#EBF0F8"
             },
             "line": {
              "color": "white"
             }
            },
            "header": {
             "fill": {
              "color": "#C8D4E3"
             },
             "line": {
              "color": "white"
             }
            },
            "type": "table"
           }
          ]
         },
         "layout": {
          "annotationdefaults": {
           "arrowcolor": "#2a3f5f",
           "arrowhead": 0,
           "arrowwidth": 1
          },
          "autotypenumbers": "strict",
          "coloraxis": {
           "colorbar": {
            "outlinewidth": 0,
            "ticks": ""
           }
          },
          "colorscale": {
           "diverging": [
            [
             0,
             "#8e0152"
            ],
            [
             0.1,
             "#c51b7d"
            ],
            [
             0.2,
             "#de77ae"
            ],
            [
             0.3,
             "#f1b6da"
            ],
            [
             0.4,
             "#fde0ef"
            ],
            [
             0.5,
             "#f7f7f7"
            ],
            [
             0.6,
             "#e6f5d0"
            ],
            [
             0.7,
             "#b8e186"
            ],
            [
             0.8,
             "#7fbc41"
            ],
            [
             0.9,
             "#4d9221"
            ],
            [
             1,
             "#276419"
            ]
           ],
           "sequential": [
            [
             0,
             "#0d0887"
            ],
            [
             0.1111111111111111,
             "#46039f"
            ],
            [
             0.2222222222222222,
             "#7201a8"
            ],
            [
             0.3333333333333333,
             "#9c179e"
            ],
            [
             0.4444444444444444,
             "#bd3786"
            ],
            [
             0.5555555555555556,
             "#d8576b"
            ],
            [
             0.6666666666666666,
             "#ed7953"
            ],
            [
             0.7777777777777778,
             "#fb9f3a"
            ],
            [
             0.8888888888888888,
             "#fdca26"
            ],
            [
             1,
             "#f0f921"
            ]
           ],
           "sequentialminus": [
            [
             0,
             "#0d0887"
            ],
            [
             0.1111111111111111,
             "#46039f"
            ],
            [
             0.2222222222222222,
             "#7201a8"
            ],
            [
             0.3333333333333333,
             "#9c179e"
            ],
            [
             0.4444444444444444,
             "#bd3786"
            ],
            [
             0.5555555555555556,
             "#d8576b"
            ],
            [
             0.6666666666666666,
             "#ed7953"
            ],
            [
             0.7777777777777778,
             "#fb9f3a"
            ],
            [
             0.8888888888888888,
             "#fdca26"
            ],
            [
             1,
             "#f0f921"
            ]
           ]
          },
          "colorway": [
           "#636efa",
           "#EF553B",
           "#00cc96",
           "#ab63fa",
           "#FFA15A",
           "#19d3f3",
           "#FF6692",
           "#B6E880",
           "#FF97FF",
           "#FECB52"
          ],
          "font": {
           "color": "#2a3f5f"
          },
          "geo": {
           "bgcolor": "white",
           "lakecolor": "white",
           "landcolor": "#E5ECF6",
           "showlakes": true,
           "showland": true,
           "subunitcolor": "white"
          },
          "hoverlabel": {
           "align": "left"
          },
          "hovermode": "closest",
          "mapbox": {
           "style": "light"
          },
          "paper_bgcolor": "white",
          "plot_bgcolor": "#E5ECF6",
          "polar": {
           "angularaxis": {
            "gridcolor": "white",
            "linecolor": "white",
            "ticks": ""
           },
           "bgcolor": "#E5ECF6",
           "radialaxis": {
            "gridcolor": "white",
            "linecolor": "white",
            "ticks": ""
           }
          },
          "scene": {
           "xaxis": {
            "backgroundcolor": "#E5ECF6",
            "gridcolor": "white",
            "gridwidth": 2,
            "linecolor": "white",
            "showbackground": true,
            "ticks": "",
            "zerolinecolor": "white"
           },
           "yaxis": {
            "backgroundcolor": "#E5ECF6",
            "gridcolor": "white",
            "gridwidth": 2,
            "linecolor": "white",
            "showbackground": true,
            "ticks": "",
            "zerolinecolor": "white"
           },
           "zaxis": {
            "backgroundcolor": "#E5ECF6",
            "gridcolor": "white",
            "gridwidth": 2,
            "linecolor": "white",
            "showbackground": true,
            "ticks": "",
            "zerolinecolor": "white"
           }
          },
          "shapedefaults": {
           "line": {
            "color": "#2a3f5f"
           }
          },
          "ternary": {
           "aaxis": {
            "gridcolor": "white",
            "linecolor": "white",
            "ticks": ""
           },
           "baxis": {
            "gridcolor": "white",
            "linecolor": "white",
            "ticks": ""
           },
           "bgcolor": "#E5ECF6",
           "caxis": {
            "gridcolor": "white",
            "linecolor": "white",
            "ticks": ""
           }
          },
          "title": {
           "x": 0.05
          },
          "xaxis": {
           "automargin": true,
           "gridcolor": "white",
           "linecolor": "white",
           "ticks": "",
           "title": {
            "standoff": 15
           },
           "zerolinecolor": "white",
           "zerolinewidth": 2
          },
          "yaxis": {
           "automargin": true,
           "gridcolor": "white",
           "linecolor": "white",
           "ticks": "",
           "title": {
            "standoff": 15
           },
           "zerolinecolor": "white",
           "zerolinewidth": 2
          }
         }
        },
        "title": {
         "text": "Heatmap of Inflation rates by Country (1970-2023)"
        },
        "width": 1000,
        "xaxis": {
         "anchor": "y",
         "domain": [
          0,
          1
         ],
         "title": {
          "text": "Year"
         }
        },
        "yaxis": {
         "anchor": "x",
         "autorange": "reversed",
         "domain": [
          0,
          1
         ],
         "title": {
          "text": "Country"
         }
        }
       }
      }
     },
     "metadata": {},
     "output_type": "display_data"
    }
   ],
   "source": [
    "#2.\n",
    "print('Heatmap of Inflation : Country VS year \\n')\n",
    "\n",
    "#countries as rows , years as cols : pivot into heatmap_data\n",
    "# projdata_long = analysis_col.melt(id_vars=[\"Country\"], var_name=\"Year\", value_name=\"hcpia_Inflation\")\n",
    "# Aggregate duplicate entries\n",
    "projdata_grouped = projdata_long.groupby([\"Country\", \"Year\"])[\"hcpia_Inflation\"].mean().nlargest(20).reset_index()\n",
    "\n",
    "heatmap_data = projdata_grouped.pivot(index='Country',columns='Year',values='hcpia_Inflation')\n",
    "\n",
    "#plotting the heatmap\n",
    "fig = px.imshow(heatmap_data, aspect='auto', color_continuous_scale='RdYlGn_r', title='Heatmap of Inflation rates by Country (1970-2023)',labels=dict(x='Year',y='Country',color='Inflation rate %'))\n",
    "\n",
    "fig.update_layout(\n",
    "    xaxis_title='Year',yaxis_title='Country',autosize=False,width=1000,height=1400,\n",
    "    margin=dict(l=50, r=50, t=50, b=50)\n",
    ")\n",
    "\n",
    "fig.show()"
   ]
  },
  {
   "cell_type": "markdown",
   "id": "b612874e",
   "metadata": {},
   "source": [
    "#5.3 animated graphs : future scope\n"
   ]
  }
 ],
 "metadata": {
  "jupytext": {
   "cell_metadata_filter": "-all",
   "notebook_metadata_filter": "-all"
  },
  "kernelspec": {
   "display_name": "Python 3",
   "language": "python",
   "name": "python3"
  },
  "language_info": {
   "codemirror_mode": {
    "name": "ipython",
    "version": 3
   },
   "file_extension": ".py",
   "mimetype": "text/x-python",
   "name": "python",
   "nbconvert_exporter": "python",
   "pygments_lexer": "ipython3",
   "version": "3.13.1"
  }
 },
 "nbformat": 4,
 "nbformat_minor": 5
}
